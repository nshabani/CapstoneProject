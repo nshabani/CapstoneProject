{
 "cells": [
  {
   "cell_type": "markdown",
   "metadata": {},
   "source": [
    "# Capstone Project: Create a Customer Segmentation Report for Arvato Financial Services\n",
    "\n",
    "In this project, you will analyze demographics data for customers of a mail-order sales company in Germany, comparing it against demographics information for the general population. You'll use unsupervised learning techniques to perform customer segmentation, identifying the parts of the population that best describe the core customer base of the company. Then, you'll apply what you've learned on a third dataset with demographics information for targets of a marketing campaign for the company, and use a model to predict which individuals are most likely to convert into becoming customers for the company. The data that you will use has been provided by our partners at Bertelsmann Arvato Analytics, and represents a real-life data science task.\n",
    "\n",
    "If you completed the first term of this program, you will be familiar with the first part of this project, from the unsupervised learning project. The versions of those two datasets used in this project will include many more features and has not been pre-cleaned. You are also free to choose whatever approach you'd like to analyzing the data rather than follow pre-determined steps. In your work on this project, make sure that you carefully document your steps and decisions, since your main deliverable for this project will be a blog post reporting your findings."
   ]
  },
  {
   "cell_type": "code",
   "execution_count": 1,
   "metadata": {},
   "outputs": [],
   "source": [
    "# import libraries here; add more as necessary\n",
    "import numpy as np\n",
    "import pandas as pd\n",
    "import matplotlib.pyplot as plt\n",
    "import seaborn as sns\n",
    "from sklearn.preprocessing import LabelEncoder, OneHotEncoder, StandardScaler\n",
    "from sklearn.decomposition import PCA,IncrementalPCA\n",
    "import time\n",
    "from sklearn.cluster import KMeans\n",
    "from sklearn.metrics import roc_curve\n",
    "from sklearn.model_selection import GridSearchCV\n",
    "from sklearn.linear_model import LogisticRegression\n",
    "from sklearn.ensemble import RandomForestClassifier\n",
    "from sklearn.ensemble import AdaBoostClassifier\n",
    "from sklearn.ensemble import GradientBoostingClassifier\n",
    "from sklearn.svm import SVC\n",
    "from sklearn.neighbors import KNeighborsClassifier\n",
    "from collections import Counter\n",
    "from operator import itemgetter\n",
    "from IPython.display import Image\n",
    "from pandas.plotting import table\n",
    "import six\n",
    "\n",
    "\n",
    "# magic word for producing visualizations in notebook\n",
    "%matplotlib inline"
   ]
  },
  {
   "cell_type": "markdown",
   "metadata": {},
   "source": [
    "## Part 0: Get to Know the Data\n",
    "\n",
    "There are four data files associated with this project:\n",
    "\n",
    "- `Udacity_AZDIAS_052018.csv`: Demographics data for the general population of Germany; 891 211 persons (rows) x 366 features (columns).\n",
    "- `Udacity_CUSTOMERS_052018.csv`: Demographics data for customers of a mail-order company; 191 652 persons (rows) x 369 features (columns).\n",
    "- `Udacity_MAILOUT_052018_TRAIN.csv`: Demographics data for individuals who were targets of a marketing campaign; 42 982 persons (rows) x 367 (columns).\n",
    "- `Udacity_MAILOUT_052018_TEST.csv`: Demographics data for individuals who were targets of a marketing campaign; 42 833 persons (rows) x 366 (columns).\n",
    "\n",
    "Each row of the demographics files represents a single person, but also includes information outside of individuals, including information about their household, building, and neighborhood. Use the information from the first two files to figure out how customers (\"CUSTOMERS\") are similar to or differ from the general population at large (\"AZDIAS\"), then use your analysis to make predictions on the other two files (\"MAILOUT\"), predicting which recipients are most likely to become a customer for the mail-order company.\n",
    "\n",
    "The \"CUSTOMERS\" file contains three extra columns ('CUSTOMER_GROUP', 'ONLINE_PURCHASE', and 'PRODUCT_GROUP'), which provide broad information about the customers depicted in the file. The original \"MAILOUT\" file included one additional column, \"RESPONSE\", which indicated whether or not each recipient became a customer of the company. For the \"TRAIN\" subset, this column has been retained, but in the \"TEST\" subset it has been removed; it is against that withheld column that your final predictions will be assessed in the Kaggle competition.\n",
    "\n",
    "Otherwise, all of the remaining columns are the same between the three data files. For more information about the columns depicted in the files, you can refer to two Excel spreadsheets provided in the workspace. [One of them](./DIAS Information Levels - Attributes 2017.xlsx) is a top-level list of attributes and descriptions, organized by informational category. [The other](./DIAS Attributes - Values 2017.xlsx) is a detailed mapping of data values for each feature in alphabetical order.\n",
    "\n",
    "In the below cell, we've provided some initial code to load in the first two datasets. Note for all of the `.csv` data files in this project that they're semicolon (`;`) delimited, so an additional argument in the [`read_csv()`](https://pandas.pydata.org/pandas-docs/stable/generated/pandas.read_csv.html) call has been included to read in the data properly. Also, considering the size of the datasets, it may take some time for them to load completely.\n",
    "\n",
    "You'll notice when the data is loaded in that a warning message will immediately pop up. Before you really start digging into the modeling and analysis, you're going to need to perform some cleaning. Take some time to browse the structure of the data and look over the informational spreadsheets to understand the data values. Make some decisions on which features to keep, which features to drop, and if any revisions need to be made on data formats. It'll be a good idea to create a function with pre-processing steps, since you'll need to clean all of the datasets before you work with them."
   ]
  },
  {
   "cell_type": "code",
   "execution_count": 2,
   "metadata": {
    "scrolled": false
   },
   "outputs": [
    {
     "data": {
      "text/html": [
       "<div>\n",
       "<style scoped>\n",
       "    .dataframe tbody tr th:only-of-type {\n",
       "        vertical-align: middle;\n",
       "    }\n",
       "\n",
       "    .dataframe tbody tr th {\n",
       "        vertical-align: top;\n",
       "    }\n",
       "\n",
       "    .dataframe thead th {\n",
       "        text-align: right;\n",
       "    }\n",
       "</style>\n",
       "<table border=\"1\" class=\"dataframe\">\n",
       "  <thead>\n",
       "    <tr style=\"text-align: right;\">\n",
       "      <th></th>\n",
       "      <th>LNR</th>\n",
       "      <th>AGER_TYP</th>\n",
       "      <th>AKT_DAT_KL</th>\n",
       "      <th>ALTER_HH</th>\n",
       "      <th>ALTER_KIND1</th>\n",
       "      <th>ALTER_KIND2</th>\n",
       "      <th>ALTER_KIND3</th>\n",
       "      <th>ALTER_KIND4</th>\n",
       "      <th>ALTERSKATEGORIE_FEIN</th>\n",
       "      <th>ANZ_HAUSHALTE_AKTIV</th>\n",
       "      <th>...</th>\n",
       "      <th>VHN</th>\n",
       "      <th>VK_DHT4A</th>\n",
       "      <th>VK_DISTANZ</th>\n",
       "      <th>VK_ZG11</th>\n",
       "      <th>W_KEIT_KIND_HH</th>\n",
       "      <th>WOHNDAUER_2008</th>\n",
       "      <th>WOHNLAGE</th>\n",
       "      <th>ZABEOTYP</th>\n",
       "      <th>ANREDE_KZ</th>\n",
       "      <th>ALTERSKATEGORIE_GROB</th>\n",
       "    </tr>\n",
       "  </thead>\n",
       "  <tbody>\n",
       "    <tr>\n",
       "      <th>0</th>\n",
       "      <td>910215</td>\n",
       "      <td>-1</td>\n",
       "      <td>NaN</td>\n",
       "      <td>NaN</td>\n",
       "      <td>NaN</td>\n",
       "      <td>NaN</td>\n",
       "      <td>NaN</td>\n",
       "      <td>NaN</td>\n",
       "      <td>NaN</td>\n",
       "      <td>NaN</td>\n",
       "      <td>...</td>\n",
       "      <td>NaN</td>\n",
       "      <td>NaN</td>\n",
       "      <td>NaN</td>\n",
       "      <td>NaN</td>\n",
       "      <td>NaN</td>\n",
       "      <td>NaN</td>\n",
       "      <td>NaN</td>\n",
       "      <td>3</td>\n",
       "      <td>1</td>\n",
       "      <td>2</td>\n",
       "    </tr>\n",
       "    <tr>\n",
       "      <th>1</th>\n",
       "      <td>910220</td>\n",
       "      <td>-1</td>\n",
       "      <td>9.0</td>\n",
       "      <td>0.0</td>\n",
       "      <td>NaN</td>\n",
       "      <td>NaN</td>\n",
       "      <td>NaN</td>\n",
       "      <td>NaN</td>\n",
       "      <td>21.0</td>\n",
       "      <td>11.0</td>\n",
       "      <td>...</td>\n",
       "      <td>4.0</td>\n",
       "      <td>8.0</td>\n",
       "      <td>11.0</td>\n",
       "      <td>10.0</td>\n",
       "      <td>3.0</td>\n",
       "      <td>9.0</td>\n",
       "      <td>4.0</td>\n",
       "      <td>5</td>\n",
       "      <td>2</td>\n",
       "      <td>1</td>\n",
       "    </tr>\n",
       "    <tr>\n",
       "      <th>2</th>\n",
       "      <td>910225</td>\n",
       "      <td>-1</td>\n",
       "      <td>9.0</td>\n",
       "      <td>17.0</td>\n",
       "      <td>NaN</td>\n",
       "      <td>NaN</td>\n",
       "      <td>NaN</td>\n",
       "      <td>NaN</td>\n",
       "      <td>17.0</td>\n",
       "      <td>10.0</td>\n",
       "      <td>...</td>\n",
       "      <td>2.0</td>\n",
       "      <td>9.0</td>\n",
       "      <td>9.0</td>\n",
       "      <td>6.0</td>\n",
       "      <td>3.0</td>\n",
       "      <td>9.0</td>\n",
       "      <td>2.0</td>\n",
       "      <td>5</td>\n",
       "      <td>2</td>\n",
       "      <td>3</td>\n",
       "    </tr>\n",
       "    <tr>\n",
       "      <th>3</th>\n",
       "      <td>910226</td>\n",
       "      <td>2</td>\n",
       "      <td>1.0</td>\n",
       "      <td>13.0</td>\n",
       "      <td>NaN</td>\n",
       "      <td>NaN</td>\n",
       "      <td>NaN</td>\n",
       "      <td>NaN</td>\n",
       "      <td>13.0</td>\n",
       "      <td>1.0</td>\n",
       "      <td>...</td>\n",
       "      <td>0.0</td>\n",
       "      <td>7.0</td>\n",
       "      <td>10.0</td>\n",
       "      <td>11.0</td>\n",
       "      <td>NaN</td>\n",
       "      <td>9.0</td>\n",
       "      <td>7.0</td>\n",
       "      <td>3</td>\n",
       "      <td>2</td>\n",
       "      <td>4</td>\n",
       "    </tr>\n",
       "    <tr>\n",
       "      <th>4</th>\n",
       "      <td>910241</td>\n",
       "      <td>-1</td>\n",
       "      <td>1.0</td>\n",
       "      <td>20.0</td>\n",
       "      <td>NaN</td>\n",
       "      <td>NaN</td>\n",
       "      <td>NaN</td>\n",
       "      <td>NaN</td>\n",
       "      <td>14.0</td>\n",
       "      <td>3.0</td>\n",
       "      <td>...</td>\n",
       "      <td>2.0</td>\n",
       "      <td>3.0</td>\n",
       "      <td>5.0</td>\n",
       "      <td>4.0</td>\n",
       "      <td>2.0</td>\n",
       "      <td>9.0</td>\n",
       "      <td>3.0</td>\n",
       "      <td>4</td>\n",
       "      <td>1</td>\n",
       "      <td>3</td>\n",
       "    </tr>\n",
       "  </tbody>\n",
       "</table>\n",
       "<p>5 rows × 366 columns</p>\n",
       "</div>"
      ],
      "text/plain": [
       "      LNR  AGER_TYP  AKT_DAT_KL  ALTER_HH  ALTER_KIND1  ALTER_KIND2  \\\n",
       "0  910215        -1         NaN       NaN          NaN          NaN   \n",
       "1  910220        -1         9.0       0.0          NaN          NaN   \n",
       "2  910225        -1         9.0      17.0          NaN          NaN   \n",
       "3  910226         2         1.0      13.0          NaN          NaN   \n",
       "4  910241        -1         1.0      20.0          NaN          NaN   \n",
       "\n",
       "   ALTER_KIND3  ALTER_KIND4  ALTERSKATEGORIE_FEIN  ANZ_HAUSHALTE_AKTIV  \\\n",
       "0          NaN          NaN                   NaN                  NaN   \n",
       "1          NaN          NaN                  21.0                 11.0   \n",
       "2          NaN          NaN                  17.0                 10.0   \n",
       "3          NaN          NaN                  13.0                  1.0   \n",
       "4          NaN          NaN                  14.0                  3.0   \n",
       "\n",
       "          ...           VHN  VK_DHT4A  VK_DISTANZ  VK_ZG11  W_KEIT_KIND_HH  \\\n",
       "0         ...           NaN       NaN         NaN      NaN             NaN   \n",
       "1         ...           4.0       8.0        11.0     10.0             3.0   \n",
       "2         ...           2.0       9.0         9.0      6.0             3.0   \n",
       "3         ...           0.0       7.0        10.0     11.0             NaN   \n",
       "4         ...           2.0       3.0         5.0      4.0             2.0   \n",
       "\n",
       "   WOHNDAUER_2008  WOHNLAGE ZABEOTYP ANREDE_KZ ALTERSKATEGORIE_GROB  \n",
       "0             NaN       NaN        3         1                    2  \n",
       "1             9.0       4.0        5         2                    1  \n",
       "2             9.0       2.0        5         2                    3  \n",
       "3             9.0       7.0        3         2                    4  \n",
       "4             9.0       3.0        4         1                    3  \n",
       "\n",
       "[5 rows x 366 columns]"
      ]
     },
     "execution_count": 2,
     "metadata": {},
     "output_type": "execute_result"
    }
   ],
   "source": [
    "# load in the data\n",
    "azdias = pd.read_csv('../../data/Term2/capstone/arvato_data/Udacity_AZDIAS_052018.csv', sep=';',dtype={18:'str',19:'str'})\n",
    "customers = pd.read_csv('../../data/Term2/capstone/arvato_data/Udacity_CUSTOMERS_052018.csv', sep=';',dtype={18:'str',19:'str'})\n",
    "azdias.head()"
   ]
  },
  {
   "cell_type": "markdown",
   "metadata": {},
   "source": [
    "First, let's explore the data starting with missing values. \n",
    "Below graphs show number of columns with percentage of null values in both azdias and customers dataset. \n",
    "It can be seen that while most columns in azdias dataset have less than 20% missing values, customers dataset have more columns with more than 20% nulls."
   ]
  },
  {
   "cell_type": "code",
   "execution_count": 3,
   "metadata": {},
   "outputs": [],
   "source": [
    "azdias_null=azdias.isnull().sum()/azdias.shape[0]*100\n",
    "customers_null=customers.isnull().sum()/customers.shape[0]*100"
   ]
  },
  {
   "cell_type": "code",
   "execution_count": 13,
   "metadata": {},
   "outputs": [
    {
     "data": {
      "image/png": "[encoded data removed]",
      "text/plain": [
       "<matplotlib.figure.Figure at 0x7f4a4019d748>"
      ]
     },
     "metadata": {
      "needs_background": "light"
     },
     "output_type": "display_data"
    },
    {
     "data": {
      "text/plain": [
       "<matplotlib.figure.Figure at 0x7f4a3fa4ab70>"
      ]
     },
     "metadata": {},
     "output_type": "display_data"
    }
   ],
   "source": [
    "plt.figure(figsize=[15,4])\n",
    "\n",
    "plt.subplot(1,2,1)\n",
    "plt.hist(azdias_null,bins=np.arange(0,120,20))\n",
    "plt.title('Ratio of missing data for each column in azdias dataset')\n",
    "plt.xlabel('% of missing values',fontsize=12)\n",
    "plt.ylabel('count',fontsize=12)\n",
    "\n",
    "plt.subplot(1,2,2)\n",
    "\n",
    "plt.hist(customers_null,bins=np.arange(0,120,20))\n",
    "plt.title('Ratio of missing data for each column in customers dataset')\n",
    "plt.xlabel('% of missing values',fontsize=12)\n",
    "plt.ylabel('count',fontsize=12)\n",
    "\n",
    "plt.show()\n",
    "plt.savefig('number_col.png')\n"
   ]
  },
  {
   "cell_type": "markdown",
   "metadata": {},
   "source": [
    "The same analysis with dataset rows show that again there are more rows in customers dataset with higher number of missing values."
   ]
  },
  {
   "cell_type": "code",
   "execution_count": 14,
   "metadata": {},
   "outputs": [],
   "source": [
    "customer_null_records=customers.isna().sum(axis=1).sort_values(ascending=False)/customers.shape[1]*100\n",
    "azdias_null_records=azdias.isna().sum(axis=1).sort_values(ascending=False)/azdias.shape[1]*100"
   ]
  },
  {
   "cell_type": "code",
   "execution_count": 15,
   "metadata": {},
   "outputs": [
    {
     "data": {
      "image/png": "[encoded data removed]",
      "text/plain": [
       "<matplotlib.figure.Figure at 0x7f4a41eba2e8>"
      ]
     },
     "metadata": {
      "needs_background": "light"
     },
     "output_type": "display_data"
    },
    {
     "data": {
      "text/plain": [
       "<matplotlib.figure.Figure at 0x7f4a3f8e2f60>"
      ]
     },
     "metadata": {},
     "output_type": "display_data"
    }
   ],
   "source": [
    "plt.figure(figsize=[15,4])\n",
    "\n",
    "plt.subplot(1,2,1)\n",
    "plt.hist(azdias_null_records,bins=np.arange(0,120,20))\n",
    "plt.title('Ratio of missing data for each row in azdias dataset')\n",
    "plt.xlabel('% of missing values',fontsize=12)\n",
    "plt.ylabel('count',fontsize=12)\n",
    "\n",
    "plt.subplot(1,2,2)\n",
    "\n",
    "plt.hist(customer_null_records,bins=np.arange(0,120,20))\n",
    "plt.title('Ratio of missing data for each row in customers dataset')\n",
    "plt.xlabel('% of missing values',fontsize=12)\n",
    "plt.ylabel('count',fontsize=12)\n",
    "\n",
    "plt.show()\n",
    "plt.savefig('number_row.png')\n"
   ]
  },
  {
   "cell_type": "markdown",
   "metadata": {},
   "source": [
    "Some of the columns are dropped since there are higher level categorization of them in the dataset."
   ]
  },
  {
   "cell_type": "code",
   "execution_count": 3,
   "metadata": {},
   "outputs": [
    {
     "name": "stdout",
     "output_type": "stream",
     "text": [
      "(891221, 359)\n",
      "(191652, 359)\n"
     ]
    }
   ],
   "source": [
    "customers.drop(columns=['CUSTOMER_GROUP', 'ONLINE_PURCHASE', 'PRODUCT_GROUP'], inplace=True)\n",
    "\n",
    "unwanted_list=['LNR','LP_LEBENSPHASE_GROB','LP_STATUS_FEIN','LP_LEBENSPHASE_FEIN','CAMEO_INTL_2015','EINGEFUEGT_AM','CAMEO_DEU_2015']\n",
    "azdias.drop(unwanted_list,axis=1,inplace=True)\n",
    "customers.drop(unwanted_list,axis=1,inplace=True)\n",
    "\n",
    "print(azdias.shape)\n",
    "print(customers.shape)"
   ]
  },
  {
   "cell_type": "markdown",
   "metadata": {},
   "source": [
    "Below, some functions are developed for cleaning data.\n",
    "- data_clean replaces some values of number of columns with more meaningful values based on my exploration in the data explanation file. Also, it replaces the values for unknown data in the excel data file with nan.\n",
    "- remove_columns_nan function drops columns with more than X% missing values in df2 from df1. The reason for having two dfs is that we will need to drop the same columns from azdias and customers and we need to use one of them (in this case azdias) as a reference for dropping columns.\n",
    "- remove_row_nan functions drops rows with more than X% missing values from dataframe df.\n",
    "- replace_nan function is used for imputing nan values. I first categorized each column as numeric, nominal and ordinal features based on their definition. The function reads the categories from the file. For numeric columns, mean of the column is used to replace the missing values. For rest of the columns either zero or median of the column is used depending on the situation."
   ]
  },
  {
   "cell_type": "code",
   "execution_count": 2,
   "metadata": {},
   "outputs": [],
   "source": [
    "def data_clean(df):\n",
    "    '''\n",
    "    Clean a DataFrame. \n",
    "    Replace some values of number of columns with more meaningfull values.\n",
    "    Find unknown values from table and replace them with NAN\n",
    "    '''\n",
    "\n",
    "    df['MOBI_REGIO'].replace(6,0,inplace=True)\n",
    "    \n",
    "    df['PRAEGENDE_JUGENDJAHRE'].replace(2,1,inplace=True)\n",
    "    for i in range(3,5):\n",
    "        df['PRAEGENDE_JUGENDJAHRE'].replace(i,2,inplace=True)\n",
    "    for i in range(5,8):\n",
    "        df['PRAEGENDE_JUGENDJAHRE'].replace(i,3,inplace=True)\n",
    "    for i in range(8,10):\n",
    "        df['PRAEGENDE_JUGENDJAHRE'].replace(i,4,inplace=True)\n",
    "    for i in range(10,14):\n",
    "        df['PRAEGENDE_JUGENDJAHRE'].replace(i,5,inplace=True)\n",
    "    for i in range(14,16):\n",
    "        df['PRAEGENDE_JUGENDJAHRE'].replace(i,6,inplace=True)\n",
    "    \n",
    "    df['ALTERSKATEGORIE_GROB'].replace(9,np.nan,inplace=True)\n",
    "    df['CAMEO_DEUG_2015'].replace('X',np.nan,inplace=True)\n",
    "\n",
    "    #find unknown values from information table and replace them with NAN\n",
    "    #read columns with nan_values from file\n",
    "    nan_values=pd.read_csv('/home/workspace/NAN-Values.csv')\n",
    "    #find above columns in azdias dataset\n",
    "    nan_columns=(set(df.columns)).intersection(set(nan_values['Attribute']))\n",
    "    #find values that represent nan (unkown) from file\n",
    "    filtered_nan_values=nan_values.loc[nan_values['Attribute'].isin(nan_columns)]\n",
    "    #reset index \n",
    "    filtered_nan_values.reset_index(inplace=True)\n",
    "    #split if there is two values as unknown\n",
    "    values=filtered_nan_values.Value.str.split(',')\n",
    "    #find and replace nan values\n",
    "    for i, j in enumerate(filtered_nan_values.Attribute):\n",
    "        #first value\n",
    "        val_len=len(values[i])\n",
    "        val1=pd.to_numeric(filtered_nan_values.Value.str.split(',')[i])[0]\n",
    "        df[j].replace(val1,np.nan,inplace=True)\n",
    "        #if there is a second value\n",
    "        if val_len>1:\n",
    "            val2=pd.to_numeric(filtered_nan_values.Value.str.split(',')[i])[1]\n",
    "            df[j].replace(val2,np.nan,inplace=True)\n"
   ]
  },
  {
   "cell_type": "code",
   "execution_count": 3,
   "metadata": {},
   "outputs": [],
   "source": [
    "def remove_columns_nan(df1,df2,percentage_column):\n",
    "    '''\n",
    "    Reomve columns of df1 with ratio of nan values higher than percentage_column in df2.  \n",
    "    Input: \n",
    "        df1: the dataframe which it's columns will be removed\n",
    "        df2: the dataframe that is reference for filtering columns with nan values, could be same as df1\n",
    "        percentage_column: threshold of ratio of nan values\n",
    "    '''\n",
    "\n",
    "    Null_columns=[]\n",
    "    for i in df2.columns:\n",
    "        if df2[i].isnull().sum()/df2.shape[0]>percentage_column:\n",
    "            Null_columns.append(i)\n",
    "\n",
    "    df1.drop(Null_columns,axis=1,inplace=True)\n",
    "#    print(df1.shape)\n",
    "#    return df1\n"
   ]
  },
  {
   "cell_type": "code",
   "execution_count": 4,
   "metadata": {},
   "outputs": [],
   "source": [
    "def remove_row_nan(df,percentage_row):\n",
    "    '''\n",
    "    Reomve rows of df with ratio of nan values higher than percentage_row.  \n",
    "    '''\n",
    "\n",
    "    #drop rows with more than 20% null values\n",
    "    threshold=round(df.shape[1]*(1-percentage_row))\n",
    "    df.dropna(thresh=threshold,axis=0,inplace=True)\n",
    "#    print(df.shape)\n",
    "#    return df"
   ]
  },
  {
   "cell_type": "code",
   "execution_count": 5,
   "metadata": {},
   "outputs": [],
   "source": [
    "def replace_nan(df,nan_non_numeric):\n",
    "    '''\n",
    "    Replace NAN values:\n",
    "    for numeric replace them with mean of the column\n",
    "    for non numeric, replace them either with zero or median based on the nan_non_numeric input value.'''\n",
    "   \n",
    "    \n",
    "    attr_values=pd.read_csv(r\"/home/workspace/DIAS Attributes - Values 2017.csv\",encoding='latin1')\n",
    "    numeric_list=attr_values[attr_values['level']=='numeric']['Attribute']\n",
    "\n",
    "    for i in numeric_list:\n",
    "        try:\n",
    "            df[i].fillna((df[i].mean()), inplace=True)\n",
    "        except:\n",
    "            pass\n",
    "    if nan_non_numeric=='median':  \n",
    "        for i in df.columns:\n",
    "            df[i].fillna(df[i].median(), inplace=True)\n",
    "    if nan_non_numeric=='zero':\n",
    "        df.fillna(0, inplace=True)\n",
    "        \n",
    "#    print(df.shape)\n",
    "#    return(df)"
   ]
  },
  {
   "cell_type": "markdown",
   "metadata": {},
   "source": [
    "Finally, data_preprocessing functions calls all the above functions and run them one by one."
   ]
  },
  {
   "cell_type": "code",
   "execution_count": 10,
   "metadata": {},
   "outputs": [],
   "source": [
    "def data_preprocessing(df1,df2,percentage_column,percentage_row,nan_non_numeric):\n",
    "    '''\n",
    "    Calls above functions one by one, for inputs, refer to above functions.    \n",
    "    '''\n",
    "\n",
    "    print('Cleaning data...')\n",
    "    data_clean(df1)\n",
    "    print(df1.shape)\n",
    "    print('Removing columns with more than {}% nan value...'.format(percentage_column*100))\n",
    "    remove_columns_nan(df1,df2,percentage_column)\n",
    "    print(df1.shape)   \n",
    "    print('Removing rows with more than {}% nan value...'.format(percentage_row*100))\n",
    "    remove_row_nan(df1,percentage_row)\n",
    "    print(df1.shape)    \n",
    "    print('Replacing remaining nan values...')\n",
    "    replace_nan(df1,nan_non_numeric)\n",
    "    print(df1.shape)\n",
    "    print('Data is ready!')\n",
    "    "
   ]
  },
  {
   "cell_type": "markdown",
   "metadata": {},
   "source": [
    "Let's apply data_preprocessing to customers dataset, with reference to azdias for column removing, and 20% as the threshold for missing value removing for both columns and rows, and zero for imputing nan values in non-numeric columns. "
   ]
  },
  {
   "cell_type": "code",
   "execution_count": 9,
   "metadata": {},
   "outputs": [
    {
     "name": "stdout",
     "output_type": "stream",
     "text": [
      "Cleaning data...\n",
      "(191652, 359)\n",
      "Removing columns with more than 20.0% nan value...\n",
      "(191652, 343)\n",
      "Removing rows with more than 20.0% nan value...\n",
      "(138804, 343)\n",
      "Replacing remaining nan values...\n",
      "(138804, 343)\n",
      "Data is ready!\n"
     ]
    }
   ],
   "source": [
    "data_preprocessing(customers,azdias,0.2,0.2,'zero')"
   ]
  },
  {
   "cell_type": "markdown",
   "metadata": {},
   "source": [
    "Then data_preprocessing is applied to azdias dataset with itself as the reference for removing columns with missing values. The rest of the parameters are as above."
   ]
  },
  {
   "cell_type": "code",
   "execution_count": 10,
   "metadata": {},
   "outputs": [
    {
     "name": "stdout",
     "output_type": "stream",
     "text": [
      "Cleaning data...\n",
      "(891221, 359)\n",
      "Removing columns with more than 20.0% nan value...\n",
      "(891221, 339)\n",
      "Removing rows with more than 20.0% nan value...\n",
      "(776306, 339)\n",
      "Replacing remaining nan values...\n",
      "(776306, 339)\n",
      "Data is ready!\n"
     ]
    }
   ],
   "source": [
    "data_preprocessing(azdias,azdias,0.2,0.2,'zero')"
   ]
  },
  {
   "cell_type": "code",
   "execution_count": 11,
   "metadata": {},
   "outputs": [],
   "source": [
    "customers.to_csv('/home/workspace/customers_cleaned.csv',index=False)\n",
    "azdias.to_csv('/home/workspace/azdias_cleaned.csv',index=False)"
   ]
  },
  {
   "cell_type": "markdown",
   "metadata": {},
   "source": [
    "To have a look at the data, let's randomly pick 10 columns with less than 10 distinct values (for the sake of visualization) to compare the azdias and customer dataset. By running below code multiple times, it can be seen that there is clear difference between the two dataset for some of the features."
   ]
  },
  {
   "cell_type": "code",
   "execution_count": 12,
   "metadata": {},
   "outputs": [
    {
     "data": {
      "image/png": "[encoded data removed]",
      "text/plain": [
       "<matplotlib.figure.Figure at 0x7fe0b0424c88>"
      ]
     },
     "metadata": {
      "needs_background": "light"
     },
     "output_type": "display_data"
    }
   ],
   "source": [
    "num_graphs=10\n",
    "column_names=azdias.columns\n",
    "selected_column_names=[]\n",
    "counter=0\n",
    "\n",
    "while counter<num_graphs:\n",
    "    random_number=np.random.randint(1,azdias.shape[1])\n",
    "    if len(azdias.iloc[:,random_number].drop_duplicates())<11:\n",
    "        selected_column_names.append(column_names[random_number])\n",
    "    counter+=1\n",
    "plt.figure(figsize=[5,20])\n",
    "plt.subplots_adjust(hspace = 0.3)\n",
    "\n",
    "for i,col in enumerate(selected_column_names):\n",
    "    a=pd.DataFrame(customers.groupby(col).size()/customers.shape[0]*100,columns=['customers'])\n",
    "    b=pd.DataFrame(azdias.groupby(col).size()/azdias.shape[0]*100,columns=['population'])\n",
    "    c=pd.concat([a,b],axis=1)\n",
    "    labels=list(c.index)\n",
    "    x=np.arange(len(labels))\n",
    "    width=0.35\n",
    "    plt.subplot(num_graphs,1,i+1)\n",
    "    rects1=plt.bar(x-width/2,c['customers'],0.35,label='customers')\n",
    "    rects2=plt.bar(x+width/2,c['population'],0.35,label='population')\n",
    "    plt.title(col)\n",
    "    plt.legend()\n",
    "    plt.ylabel('% of total')\n",
    "    plt.xticks(x,labels)\n",
    "    plt.tight_layout()\n",
    "\n",
    "\n",
    "plt.show()"
   ]
  },
  {
   "cell_type": "code",
   "execution_count": 16,
   "metadata": {},
   "outputs": [],
   "source": [
    "customers=pd.read_csv('/home/workspace/customers_cleaned.csv',dtype={11:'str',12:'str'})\n",
    "azdias=pd.read_csv('/home/workspace/azdias_cleaned.csv',dtype={11:'str',12:'str'})\n",
    "#customers.to_csv('/home/workspace/customers_cleaned2.csv',index=False)\n",
    "#azdias.to_csv('/home/workspace/azdias_cleaned2.csv',index=False)"
   ]
  },
  {
   "cell_type": "markdown",
   "metadata": {},
   "source": [
    "Below code is for defining numeric, ordinal and nominal values. First, I limit columns to the ones with definition in the attached excel file, the reason for this is first to reduce the size of the dataset, also since we are describing the data at this point, columns with no definition will not have any interpretation benefit. \n",
    "Also, from nominal features, only the ones that have 5 or fewer categories are selected for the unsupervised learning part, to reduce size. Having features with high number of categories and converting them with one hot encoder will make the data frame size too big to handle."
   ]
  },
  {
   "cell_type": "code",
   "execution_count": 17,
   "metadata": {},
   "outputs": [],
   "source": [
    "attr_values=pd.read_csv(r\"/home/workspace/DIAS Attributes - Values 2017.csv\",encoding='latin1')\n",
    "columns=list((set(azdias.columns)).intersection(set(attr_values['Attribute'])))\n",
    "customers=customers[columns]\n",
    "azdias=azdias[columns]\n",
    "\n",
    "numeric_list=attr_values[attr_values['level']=='numeric']['Attribute']\n",
    "ordinal_list=attr_values[attr_values['level']=='ordinal']['Attribute']\n",
    "nominal_list=attr_values[attr_values['level']=='nominal']['Attribute']\n",
    "\n",
    "numeric_list=list(set(numeric_list).intersection(set(columns)))\n",
    "nominal_list=list(set(nominal_list).intersection(set(columns)))\n",
    "ordinal_list=list(set(ordinal_list).intersection(set(columns)))"
   ]
  },
  {
   "cell_type": "code",
   "execution_count": 18,
   "metadata": {},
   "outputs": [],
   "source": [
    "nominal_list_short=[]\n",
    "for i in nominal_list:\n",
    "    if len(azdias[i].value_counts())<6:\n",
    "        nominal_list_short.append(i) "
   ]
  },
  {
   "cell_type": "markdown",
   "metadata": {},
   "source": [
    "One hot encoding method is used to replace nominal columns. \n",
    "Then columns of azdias are scaled with standard method and then customers dataset is also scaled by scaler fitted to azdias."
   ]
  },
  {
   "cell_type": "code",
   "execution_count": 19,
   "metadata": {},
   "outputs": [
    {
     "name": "stdout",
     "output_type": "stream",
     "text": [
      "(776306, 289)\n",
      "(138804, 289)\n"
     ]
    }
   ],
   "source": [
    "nominal_dummies_azdias=pd.get_dummies(azdias[nominal_list_short].astype('object'))#.dtypes\n",
    "nominal_dummies_customers=pd.get_dummies(customers[nominal_list_short].astype('object'))#.dtypes\n",
    "\n",
    "azdias.drop(nominal_list, axis=1, inplace = True)\n",
    "customers.drop(nominal_list, axis=1, inplace = True)\n",
    "\n",
    "azdias = pd.concat([azdias,nominal_dummies_azdias], axis = 1)\n",
    "customers = pd.concat([customers,nominal_dummies_customers], axis = 1)\n",
    "#len(ordinal_list)\n",
    "print(azdias.shape)\n",
    "print(customers.shape)"
   ]
  },
  {
   "cell_type": "code",
   "execution_count": 20,
   "metadata": {},
   "outputs": [
    {
     "name": "stdout",
     "output_type": "stream",
     "text": [
      "(776306, 289)\n"
     ]
    }
   ],
   "source": [
    "scaler = StandardScaler()\n",
    "azdias = pd.DataFrame(scaler.fit_transform(azdias), columns = azdias.columns)\n",
    "\n",
    "print(azdias.shape)"
   ]
  },
  {
   "cell_type": "code",
   "execution_count": 21,
   "metadata": {},
   "outputs": [
    {
     "data": {
      "text/plain": [
       "(138804, 289)"
      ]
     },
     "execution_count": 21,
     "metadata": {},
     "output_type": "execute_result"
    }
   ],
   "source": [
    "customers = pd.DataFrame(scaler.transform(customers), columns = customers.columns)\n",
    "customers.shape"
   ]
  },
  {
   "cell_type": "markdown",
   "metadata": {},
   "source": [
    "## Part 1: Customer Segmentation Report\n",
    "\n",
    "The main bulk of your analysis will come in this part of the project. Here, you should use unsupervised learning techniques to describe the relationship between the demographics of the company's existing customers and the general population of Germany. By the end of this part, you should be able to describe parts of the general population that are more likely to be part of the mail-order company's main customer base, and which parts of the general population are less so."
   ]
  },
  {
   "cell_type": "markdown",
   "metadata": {},
   "source": [
    "do_pca function does principal component analysis with n component to a dataframe. It is being used to for dimension reduction. First, we start from a PCA with all variables, and draw the scree plot to see at what number of components 95% of variance is explained. We pick that threshold for the dimension of the dataframe. In this case, the dimension is reduced from 289 to 180."
   ]
  },
  {
   "cell_type": "code",
   "execution_count": 23,
   "metadata": {},
   "outputs": [],
   "source": [
    "pca_azdias_all = PCA(n_components=None)\n",
    "pca_azdias_all_X = pca_azdias_all.fit_transform(azdias)\n"
   ]
  },
  {
   "cell_type": "markdown",
   "metadata": {},
   "source": [
    "scree_plot function is used to create a scree plot associated with the principal components."
   ]
  },
  {
   "cell_type": "code",
   "execution_count": 23,
   "metadata": {},
   "outputs": [],
   "source": [
    "def scree_plot(pca):\n",
    "    '''\n",
    "    Creates a scree plot associated with the principal components \n",
    "    \n",
    "    INPUT: pca - the result of instantian of PCA in scikit learn\n",
    "            \n",
    "    OUTPUT:\n",
    "            None\n",
    "    '''\n",
    "    \n",
    "    num_components=len(pca.explained_variance_ratio_)\n",
    "    ind = np.arange(num_components)\n",
    "    vals = pca.explained_variance_ratio_\n",
    " \n",
    "    plt.figure(figsize=[15,4])\n",
    "    cumvals = np.cumsum(vals)\n",
    "    \n",
    "    plt.subplot(1,2,1)\n",
    "    plt.bar(ind, vals) \n",
    "    plt.xlabel(\"Principal Component\")\n",
    "    plt.ylabel(\"Variance Explained (%)\")\n",
    "    plt.title('Explained Variance Per Principal Component')\n",
    "    \n",
    "    plt.subplot(1,2,2)\n",
    "    plt.plot(ind, cumvals) \n",
    "    plt.xlabel(\"Principal Component\")\n",
    "    plt.ylabel(\"Variance Explained (%)\")\n",
    "    plt.title('Cumulative Explained Variance Per Principal Component')\n"
   ]
  },
  {
   "cell_type": "markdown",
   "metadata": {},
   "source": [
    "First, PCA is applied to azdias dataset with n equal all columns and the scree plot is drawn. It can be seen that having 170-180 components will explain 95% of the variance. We'll go with 180 components."
   ]
  },
  {
   "cell_type": "code",
   "execution_count": 48,
   "metadata": {},
   "outputs": [
    {
     "data": {
      "image/png": "[encoded data removed]",
      "text/plain": [
       "<matplotlib.figure.Figure at 0x7fe077a6ed68>"
      ]
     },
     "metadata": {
      "needs_background": "light"
     },
     "output_type": "display_data"
    }
   ],
   "source": [
    "scree_plot(pca_azdias_all)\n",
    "plt.savefig('PCA1.png')"
   ]
  },
  {
   "cell_type": "markdown",
   "metadata": {},
   "source": [
    "Here we re-fit a PCA instance to perform the decided-on transformation."
   ]
  },
  {
   "cell_type": "code",
   "execution_count": 24,
   "metadata": {},
   "outputs": [
    {
     "data": {
      "image/png": "[encoded data removed]",
      "text/plain": [
       "<matplotlib.figure.Figure at 0x7f26ed8f14e0>"
      ]
     },
     "metadata": {
      "needs_background": "light"
     },
     "output_type": "display_data"
    }
   ],
   "source": [
    "pca_azdias_180 = PCA(n_components=180)\n",
    "pca_azdias_180_X = pca_azdias_180.fit_transform(azdias)\n",
    "scree_plot(pca_azdias_180)\n",
    "plt.savefig('PCA2.png')"
   ]
  },
  {
   "cell_type": "markdown",
   "metadata": {},
   "source": [
    "Now, let's check to components and see if we can interpret them from the weights. \n",
    "The interpretation might not be straightforward since the feature definitions are not very clear, however, for instanced we could say:\n",
    "- Component 1 is related to high income, low mobility, social status of home owner and top earner with high focus on the own house, high share of number of 1–2 family houses and low share of number of >6 family houses in the cell and PLZ8, high number of buildings in microcell.\n",
    "- Component 2 is related to high share cars with 5 seats and between 140 and 210 km/h, small and very small cars (Ford Fiesta, Ford Ka etc.) with car owners below 21 or between 46 and 60, low share of BMW & Mercedes Benz, middle and upper class car and number of cars with less than 5 seats\n",
    "- Component 3 is related to high transaction activities, high online affinities share of different types of cars, with low share of small and upperclass cars and vans.\n",
    "- Component 4 is related to younger people who are money savers with high transaction activity and actuality of the last transaction if different segments.\n",
    "- Component 5 is related to older people who are financially prepared, money savers, not very eventful and sensual minded, highly unremarkable financial typology, cultural, traditional and religious minded\n",
    "- And finally, Component 6 is related to people (both males and females) with high eventful and fightfull and low dreamily and familiar attitude, high share of cars with an engine power between 61 and 120 KW and low share of cars up to 60 KW engine power."
   ]
  },
  {
   "cell_type": "code",
   "execution_count": 138,
   "metadata": {},
   "outputs": [],
   "source": [
    "\n",
    "def pca_results(full_dataset, pca, component_number):\n",
    "    '''\n",
    "    Create a DataFrame of the PCA results\n",
    "    Visualizes the PCA results which shows the top 5 negative and positive features with their descriptions.\n",
    "    '''\n",
    "\n",
    "    # PCA components\n",
    "    components = pd.DataFrame(np.round(pca.components_, 4), columns = full_dataset.keys())\n",
    "   \n",
    "    # Create a bar plot visualization  (top and bottom 5 columns)\n",
    "    fig, ax = plt.subplots(figsize = (6,3))\n",
    "    \n",
    "    # Plot the feature weights as a function of the components\n",
    "    x_values=components.iloc[component_number-1, :].sort_values(ascending=False).iloc[[0, 1, 2,3,4,-5,-4,-3, -2, -1]]\n",
    "    x_values.plot(ax = ax, kind = 'bar');\n",
    "    \n",
    "    ax.set_ylabel(\"Feature Weights\")\n",
    "    ax.set_xticklabels(x_values.index, rotation=90)\n",
    "    \n",
    "    definition=pd.read_csv('/home/workspace/Description.csv')\n",
    "    def_table=(pd.DataFrame(definition[definition.Attribute.isin(pd.DataFrame(x_values).index)]).set_index('Attribute'))#['Description']))\n",
    "    pd.set_option(\"display.width\", 100)\n",
    "    \n",
    "    final_table=(pd.DataFrame(x_values).rename(columns={component_number-1:'Weight'}).merge(def_table,left_index=True,right_index=True))\n",
    "    return final_table\n"
   ]
  },
  {
   "cell_type": "code",
   "execution_count": 346,
   "metadata": {},
   "outputs": [
    {
     "data": {
      "text/html": [
       "<div>\n",
       "<style scoped>\n",
       "    .dataframe tbody tr th:only-of-type {\n",
       "        vertical-align: middle;\n",
       "    }\n",
       "\n",
       "    .dataframe tbody tr th {\n",
       "        vertical-align: top;\n",
       "    }\n",
       "\n",
       "    .dataframe thead th {\n",
       "        text-align: right;\n",
       "    }\n",
       "</style>\n",
       "<table border=\"1\" class=\"dataframe\">\n",
       "  <thead>\n",
       "    <tr style=\"text-align: right;\">\n",
       "      <th></th>\n",
       "      <th>Weight</th>\n",
       "      <th>Description</th>\n",
       "    </tr>\n",
       "  </thead>\n",
       "  <tbody>\n",
       "    <tr>\n",
       "      <th>MOBI_REGIO</th>\n",
       "      <td>0.1444</td>\n",
       "      <td>moving patterns</td>\n",
       "    </tr>\n",
       "    <tr>\n",
       "      <th>KBA05_ANTG1</th>\n",
       "      <td>0.1421</td>\n",
       "      <td>number of 1-2 family houses in the cell</td>\n",
       "    </tr>\n",
       "    <tr>\n",
       "      <th>PLZ8_ANTG1</th>\n",
       "      <td>0.1370</td>\n",
       "      <td>number of 1-2 family houses in the PLZ8</td>\n",
       "    </tr>\n",
       "    <tr>\n",
       "      <th>LP_STATUS_GROB</th>\n",
       "      <td>0.1340</td>\n",
       "      <td>social status rough</td>\n",
       "    </tr>\n",
       "    <tr>\n",
       "      <th>KBA05_GBZ</th>\n",
       "      <td>0.1289</td>\n",
       "      <td>number of buildings in the microcell</td>\n",
       "    </tr>\n",
       "    <tr>\n",
       "      <th>FINANZ_HAUSBAUER</th>\n",
       "      <td>-0.1102</td>\n",
       "      <td>financial typology: main focus is the own house</td>\n",
       "    </tr>\n",
       "    <tr>\n",
       "      <th>PLZ8_BAUMAX</th>\n",
       "      <td>-0.1273</td>\n",
       "      <td>most common building-type within the PLZ8</td>\n",
       "    </tr>\n",
       "    <tr>\n",
       "      <th>PLZ8_ANTG4</th>\n",
       "      <td>-0.1279</td>\n",
       "      <td>number of &gt;10 family houses in the PLZ8</td>\n",
       "    </tr>\n",
       "    <tr>\n",
       "      <th>PLZ8_ANTG3</th>\n",
       "      <td>-0.1311</td>\n",
       "      <td>number of 6-10 family houses in the PLZ8</td>\n",
       "    </tr>\n",
       "    <tr>\n",
       "      <th>HH_EINKOMMEN_SCORE</th>\n",
       "      <td>-0.1453</td>\n",
       "      <td>estimated household net income</td>\n",
       "    </tr>\n",
       "  </tbody>\n",
       "</table>\n",
       "</div>"
      ],
      "text/plain": [
       "                    Weight                                      Description\n",
       "MOBI_REGIO          0.1444                                  moving patterns\n",
       "KBA05_ANTG1         0.1421          number of 1-2 family houses in the cell\n",
       "PLZ8_ANTG1          0.1370          number of 1-2 family houses in the PLZ8\n",
       "LP_STATUS_GROB      0.1340                              social status rough\n",
       "KBA05_GBZ           0.1289             number of buildings in the microcell\n",
       "FINANZ_HAUSBAUER   -0.1102  financial typology: main focus is the own house\n",
       "PLZ8_BAUMAX        -0.1273        most common building-type within the PLZ8\n",
       "PLZ8_ANTG4         -0.1279          number of >10 family houses in the PLZ8\n",
       "PLZ8_ANTG3         -0.1311         number of 6-10 family houses in the PLZ8\n",
       "HH_EINKOMMEN_SCORE -0.1453                  estimated household net income "
      ]
     },
     "execution_count": 346,
     "metadata": {},
     "output_type": "execute_result"
    },
    {
     "data": {
      "image/png": "[encoded data removed]",
      "text/plain": [
       "<matplotlib.figure.Figure at 0x7fe0740b2f98>"
      ]
     },
     "metadata": {
      "needs_background": "light"
     },
     "output_type": "display_data"
    }
   ],
   "source": [
    "pca_results(azdias, pca_azdias_180, component_number = 1)"
   ]
  },
  {
   "cell_type": "code",
   "execution_count": 347,
   "metadata": {},
   "outputs": [
    {
     "data": {
      "text/html": [
       "<div>\n",
       "<style scoped>\n",
       "    .dataframe tbody tr th:only-of-type {\n",
       "        vertical-align: middle;\n",
       "    }\n",
       "\n",
       "    .dataframe tbody tr th {\n",
       "        vertical-align: top;\n",
       "    }\n",
       "\n",
       "    .dataframe thead th {\n",
       "        text-align: right;\n",
       "    }\n",
       "</style>\n",
       "<table border=\"1\" class=\"dataframe\">\n",
       "  <thead>\n",
       "    <tr style=\"text-align: right;\">\n",
       "      <th></th>\n",
       "      <th>Weight</th>\n",
       "      <th>Description</th>\n",
       "    </tr>\n",
       "  </thead>\n",
       "  <tbody>\n",
       "    <tr>\n",
       "      <th>KBA13_SITZE_5</th>\n",
       "      <td>0.1465</td>\n",
       "      <td>number of cars with 5 seats in the PLZ8</td>\n",
       "    </tr>\n",
       "    <tr>\n",
       "      <th>KBA13_KMH_140_210</th>\n",
       "      <td>0.1304</td>\n",
       "      <td>share of cars with max speed between 140 and 2...</td>\n",
       "    </tr>\n",
       "    <tr>\n",
       "      <th>KBA13_SEG_KLEINWAGEN</th>\n",
       "      <td>0.1258</td>\n",
       "      <td>share of small and very small cars (Ford Fiest...</td>\n",
       "    </tr>\n",
       "    <tr>\n",
       "      <th>KBA13_HALTER_20</th>\n",
       "      <td>0.1216</td>\n",
       "      <td>share of car owners below 21 within the PLZ8</td>\n",
       "    </tr>\n",
       "    <tr>\n",
       "      <th>KBA13_ALTERHALTER_60</th>\n",
       "      <td>0.1185</td>\n",
       "      <td>share of car owners between 46 and 60 within t...</td>\n",
       "    </tr>\n",
       "    <tr>\n",
       "      <th>KBA13_SITZE_4</th>\n",
       "      <td>-0.1468</td>\n",
       "      <td>number of cars with less than 5 seats in the PLZ8</td>\n",
       "    </tr>\n",
       "    <tr>\n",
       "      <th>KBA13_BMW</th>\n",
       "      <td>-0.1510</td>\n",
       "      <td>share of BMW within the PLZ8</td>\n",
       "    </tr>\n",
       "    <tr>\n",
       "      <th>KBA13_MERCEDES</th>\n",
       "      <td>-0.1536</td>\n",
       "      <td>share of MERCEDES within the PLZ8</td>\n",
       "    </tr>\n",
       "    <tr>\n",
       "      <th>KBA13_SEG_OBEREMITTELKLASSE</th>\n",
       "      <td>-0.1583</td>\n",
       "      <td>share of upper middle class cars and upper cla...</td>\n",
       "    </tr>\n",
       "    <tr>\n",
       "      <th>KBA13_HERST_BMW_BENZ</th>\n",
       "      <td>-0.1804</td>\n",
       "      <td>share of BMW &amp; Mercedes Benz within the PLZ8</td>\n",
       "    </tr>\n",
       "  </tbody>\n",
       "</table>\n",
       "</div>"
      ],
      "text/plain": [
       "                             Weight                                        Description\n",
       "KBA13_SITZE_5                0.1465            number of cars with 5 seats in the PLZ8\n",
       "KBA13_KMH_140_210            0.1304  share of cars with max speed between 140 and 2...\n",
       "KBA13_SEG_KLEINWAGEN         0.1258  share of small and very small cars (Ford Fiest...\n",
       "KBA13_HALTER_20              0.1216       share of car owners below 21 within the PLZ8\n",
       "KBA13_ALTERHALTER_60         0.1185  share of car owners between 46 and 60 within t...\n",
       "KBA13_SITZE_4               -0.1468  number of cars with less than 5 seats in the PLZ8\n",
       "KBA13_BMW                   -0.1510                       share of BMW within the PLZ8\n",
       "KBA13_MERCEDES              -0.1536                  share of MERCEDES within the PLZ8\n",
       "KBA13_SEG_OBEREMITTELKLASSE -0.1583  share of upper middle class cars and upper cla...\n",
       "KBA13_HERST_BMW_BENZ        -0.1804       share of BMW & Mercedes Benz within the PLZ8"
      ]
     },
     "execution_count": 347,
     "metadata": {},
     "output_type": "execute_result"
    },
    {
     "data": {
      "image/png": "[encoded data removed]",
      "text/plain": [
       "<matplotlib.figure.Figure at 0x7fe0742b7400>"
      ]
     },
     "metadata": {
      "needs_background": "light"
     },
     "output_type": "display_data"
    }
   ],
   "source": [
    "pca_results(azdias, pca_azdias_180, component_number = 2)\n"
   ]
  },
  {
   "cell_type": "code",
   "execution_count": 348,
   "metadata": {},
   "outputs": [
    {
     "data": {
      "text/html": [
       "<div>\n",
       "<style scoped>\n",
       "    .dataframe tbody tr th:only-of-type {\n",
       "        vertical-align: middle;\n",
       "    }\n",
       "\n",
       "    .dataframe tbody tr th {\n",
       "        vertical-align: top;\n",
       "    }\n",
       "\n",
       "    .dataframe thead th {\n",
       "        text-align: right;\n",
       "    }\n",
       "</style>\n",
       "<table border=\"1\" class=\"dataframe\">\n",
       "  <thead>\n",
       "    <tr style=\"text-align: right;\">\n",
       "      <th></th>\n",
       "      <th>Weight</th>\n",
       "      <th>Description</th>\n",
       "    </tr>\n",
       "  </thead>\n",
       "  <tbody>\n",
       "    <tr>\n",
       "      <th>MIN_GEBAEUDEJAHR</th>\n",
       "      <td>0.1257</td>\n",
       "      <td>year the building was first mentioned in our d...</td>\n",
       "    </tr>\n",
       "    <tr>\n",
       "      <th>D19_GESAMT_ANZ_24</th>\n",
       "      <td>0.1137</td>\n",
       "      <td>transaction activity TOTAL POOL in the last 24...</td>\n",
       "    </tr>\n",
       "    <tr>\n",
       "      <th>D19_GESAMT_ANZ_12</th>\n",
       "      <td>0.1086</td>\n",
       "      <td>transaction activity TOTAL POOL in the last 12...</td>\n",
       "    </tr>\n",
       "    <tr>\n",
       "      <th>D19_VERSAND_ANZ_24</th>\n",
       "      <td>0.1071</td>\n",
       "      <td>transaction activity MAIL-ORDER in the last 24...</td>\n",
       "    </tr>\n",
       "    <tr>\n",
       "      <th>ONLINE_AFFINITAET</th>\n",
       "      <td>0.1018</td>\n",
       "      <td>online affinity</td>\n",
       "    </tr>\n",
       "    <tr>\n",
       "      <th>KBA05_KRSZUL</th>\n",
       "      <td>-0.1345</td>\n",
       "      <td>share of newbuilt cars (referred to the county...</td>\n",
       "    </tr>\n",
       "    <tr>\n",
       "      <th>KBA05_SEG2</th>\n",
       "      <td>-0.1369</td>\n",
       "      <td>share of small and very small cars (Ford Fiest...</td>\n",
       "    </tr>\n",
       "    <tr>\n",
       "      <th>KBA05_KRSKLEIN</th>\n",
       "      <td>-0.1390</td>\n",
       "      <td>share of small cars (referred to the county av...</td>\n",
       "    </tr>\n",
       "    <tr>\n",
       "      <th>KBA05_KRSOBER</th>\n",
       "      <td>-0.1455</td>\n",
       "      <td>share of upper class cars (referred to the cou...</td>\n",
       "    </tr>\n",
       "    <tr>\n",
       "      <th>KBA05_KRSVAN</th>\n",
       "      <td>-0.1558</td>\n",
       "      <td>share of vans (referred to the county average)</td>\n",
       "    </tr>\n",
       "  </tbody>\n",
       "</table>\n",
       "</div>"
      ],
      "text/plain": [
       "                    Weight                                        Description\n",
       "MIN_GEBAEUDEJAHR    0.1257  year the building was first mentioned in our d...\n",
       "D19_GESAMT_ANZ_24   0.1137  transaction activity TOTAL POOL in the last 24...\n",
       "D19_GESAMT_ANZ_12   0.1086  transaction activity TOTAL POOL in the last 12...\n",
       "D19_VERSAND_ANZ_24  0.1071  transaction activity MAIL-ORDER in the last 24...\n",
       "ONLINE_AFFINITAET   0.1018                                    online affinity\n",
       "KBA05_KRSZUL       -0.1345  share of newbuilt cars (referred to the county...\n",
       "KBA05_SEG2         -0.1369  share of small and very small cars (Ford Fiest...\n",
       "KBA05_KRSKLEIN     -0.1390  share of small cars (referred to the county av...\n",
       "KBA05_KRSOBER      -0.1455  share of upper class cars (referred to the cou...\n",
       "KBA05_KRSVAN       -0.1558     share of vans (referred to the county average)"
      ]
     },
     "execution_count": 348,
     "metadata": {},
     "output_type": "execute_result"
    },
    {
     "data": {
      "image/png": "[encoded data removed]",
      "text/plain": [
       "<matplotlib.figure.Figure at 0x7fe06fe33710>"
      ]
     },
     "metadata": {
      "needs_background": "light"
     },
     "output_type": "display_data"
    }
   ],
   "source": [
    "pca_results(azdias, pca_azdias_180, component_number = 3)"
   ]
  },
  {
   "cell_type": "code",
   "execution_count": 349,
   "metadata": {},
   "outputs": [
    {
     "data": {
      "text/html": [
       "<div>\n",
       "<style scoped>\n",
       "    .dataframe tbody tr th:only-of-type {\n",
       "        vertical-align: middle;\n",
       "    }\n",
       "\n",
       "    .dataframe tbody tr th {\n",
       "        vertical-align: top;\n",
       "    }\n",
       "\n",
       "    .dataframe thead th {\n",
       "        text-align: right;\n",
       "    }\n",
       "</style>\n",
       "<table border=\"1\" class=\"dataframe\">\n",
       "  <thead>\n",
       "    <tr style=\"text-align: right;\">\n",
       "      <th></th>\n",
       "      <th>Weight</th>\n",
       "      <th>Description</th>\n",
       "    </tr>\n",
       "  </thead>\n",
       "  <tbody>\n",
       "    <tr>\n",
       "      <th>D19_GESAMT_ANZ_24</th>\n",
       "      <td>0.1455</td>\n",
       "      <td>transaction activity TOTAL POOL in the last 24...</td>\n",
       "    </tr>\n",
       "    <tr>\n",
       "      <th>ONLINE_AFFINITAET</th>\n",
       "      <td>0.1417</td>\n",
       "      <td>online affinity</td>\n",
       "    </tr>\n",
       "    <tr>\n",
       "      <th>D19_GESAMT_ANZ_12</th>\n",
       "      <td>0.1388</td>\n",
       "      <td>transaction activity TOTAL POOL in the last 12...</td>\n",
       "    </tr>\n",
       "    <tr>\n",
       "      <th>FINANZ_SPARER</th>\n",
       "      <td>0.1352</td>\n",
       "      <td>financial typology: money saver</td>\n",
       "    </tr>\n",
       "    <tr>\n",
       "      <th>D19_VERSAND_ANZ_24</th>\n",
       "      <td>0.1319</td>\n",
       "      <td>transaction activity MAIL-ORDER in the last 24...</td>\n",
       "    </tr>\n",
       "    <tr>\n",
       "      <th>ALTERSKATEGORIE_GROB</th>\n",
       "      <td>-0.1281</td>\n",
       "      <td>age classification through prename analysis</td>\n",
       "    </tr>\n",
       "    <tr>\n",
       "      <th>D19_VERSAND_DATUM</th>\n",
       "      <td>-0.1303</td>\n",
       "      <td>actuality of the last transaction for the segm...</td>\n",
       "    </tr>\n",
       "    <tr>\n",
       "      <th>D19_VERSAND_ONLINE_DATUM</th>\n",
       "      <td>-0.1329</td>\n",
       "      <td>actuality of the last transaction for the segm...</td>\n",
       "    </tr>\n",
       "    <tr>\n",
       "      <th>D19_GESAMT_DATUM</th>\n",
       "      <td>-0.1346</td>\n",
       "      <td>actuality of the last transaction with the com...</td>\n",
       "    </tr>\n",
       "    <tr>\n",
       "      <th>D19_GESAMT_ONLINE_DATUM</th>\n",
       "      <td>-0.1393</td>\n",
       "      <td>actuality of the last transaction with the com...</td>\n",
       "    </tr>\n",
       "  </tbody>\n",
       "</table>\n",
       "</div>"
      ],
      "text/plain": [
       "                          Weight                                        Description\n",
       "D19_GESAMT_ANZ_24         0.1455  transaction activity TOTAL POOL in the last 24...\n",
       "ONLINE_AFFINITAET         0.1417                                    online affinity\n",
       "D19_GESAMT_ANZ_12         0.1388  transaction activity TOTAL POOL in the last 12...\n",
       "FINANZ_SPARER             0.1352                    financial typology: money saver\n",
       "D19_VERSAND_ANZ_24        0.1319  transaction activity MAIL-ORDER in the last 24...\n",
       "ALTERSKATEGORIE_GROB     -0.1281       age classification through prename analysis \n",
       "D19_VERSAND_DATUM        -0.1303  actuality of the last transaction for the segm...\n",
       "D19_VERSAND_ONLINE_DATUM -0.1329  actuality of the last transaction for the segm...\n",
       "D19_GESAMT_DATUM         -0.1346  actuality of the last transaction with the com...\n",
       "D19_GESAMT_ONLINE_DATUM  -0.1393  actuality of the last transaction with the com..."
      ]
     },
     "execution_count": 349,
     "metadata": {},
     "output_type": "execute_result"
    },
    {
     "data": {
      "image/png": "[encoded data removed]",
      "text/plain": [
       "<matplotlib.figure.Figure at 0x7fe06fdd3f98>"
      ]
     },
     "metadata": {
      "needs_background": "light"
     },
     "output_type": "display_data"
    }
   ],
   "source": [
    "pca_results(azdias, pca_azdias_180, component_number = 4)\n"
   ]
  },
  {
   "cell_type": "code",
   "execution_count": 350,
   "metadata": {},
   "outputs": [
    {
     "data": {
      "text/html": [
       "<div>\n",
       "<style scoped>\n",
       "    .dataframe tbody tr th:only-of-type {\n",
       "        vertical-align: middle;\n",
       "    }\n",
       "\n",
       "    .dataframe tbody tr th {\n",
       "        vertical-align: top;\n",
       "    }\n",
       "\n",
       "    .dataframe thead th {\n",
       "        text-align: right;\n",
       "    }\n",
       "</style>\n",
       "<table border=\"1\" class=\"dataframe\">\n",
       "  <thead>\n",
       "    <tr style=\"text-align: right;\">\n",
       "      <th></th>\n",
       "      <th>Weight</th>\n",
       "      <th>Description</th>\n",
       "    </tr>\n",
       "  </thead>\n",
       "  <tbody>\n",
       "    <tr>\n",
       "      <th>ALTERSKATEGORIE_GROB</th>\n",
       "      <td>0.1841</td>\n",
       "      <td>age classification through prename analysis</td>\n",
       "    </tr>\n",
       "    <tr>\n",
       "      <th>SEMIO_ERL</th>\n",
       "      <td>0.1718</td>\n",
       "      <td>affinity indicating in what way the person is ...</td>\n",
       "    </tr>\n",
       "    <tr>\n",
       "      <th>FINANZ_VORSORGER</th>\n",
       "      <td>0.1470</td>\n",
       "      <td>financial typology: be prepared</td>\n",
       "    </tr>\n",
       "    <tr>\n",
       "      <th>SEMIO_LUST</th>\n",
       "      <td>0.1361</td>\n",
       "      <td>affinity indicating in what way the person is ...</td>\n",
       "    </tr>\n",
       "    <tr>\n",
       "      <th>FINANZ_UNAUFFAELLIGER</th>\n",
       "      <td>-0.1745</td>\n",
       "      <td>financial typology: unremarkable</td>\n",
       "    </tr>\n",
       "    <tr>\n",
       "      <th>SEMIO_KULT</th>\n",
       "      <td>-0.1750</td>\n",
       "      <td>affinity indicating in what way the person is ...</td>\n",
       "    </tr>\n",
       "    <tr>\n",
       "      <th>SEMIO_PFLICHT</th>\n",
       "      <td>-0.1840</td>\n",
       "      <td>affinity indicating in what way the person is ...</td>\n",
       "    </tr>\n",
       "    <tr>\n",
       "      <th>FINANZ_SPARER</th>\n",
       "      <td>-0.1851</td>\n",
       "      <td>financial typology: money saver</td>\n",
       "    </tr>\n",
       "    <tr>\n",
       "      <th>SEMIO_REL</th>\n",
       "      <td>-0.2080</td>\n",
       "      <td>affinity indicating in what way the person is ...</td>\n",
       "    </tr>\n",
       "  </tbody>\n",
       "</table>\n",
       "</div>"
      ],
      "text/plain": [
       "                       Weight                                        Description\n",
       "ALTERSKATEGORIE_GROB   0.1841       age classification through prename analysis \n",
       "SEMIO_ERL              0.1718  affinity indicating in what way the person is ...\n",
       "FINANZ_VORSORGER       0.1470                    financial typology: be prepared\n",
       "SEMIO_LUST             0.1361  affinity indicating in what way the person is ...\n",
       "FINANZ_UNAUFFAELLIGER -0.1745                   financial typology: unremarkable\n",
       "SEMIO_KULT            -0.1750  affinity indicating in what way the person is ...\n",
       "SEMIO_PFLICHT         -0.1840  affinity indicating in what way the person is ...\n",
       "FINANZ_SPARER         -0.1851                    financial typology: money saver\n",
       "SEMIO_REL             -0.2080  affinity indicating in what way the person is ..."
      ]
     },
     "execution_count": 350,
     "metadata": {},
     "output_type": "execute_result"
    },
    {
     "data": {
      "image/png": "[encoded data removed]",
      "text/plain": [
       "<matplotlib.figure.Figure at 0x7fe074392a58>"
      ]
     },
     "metadata": {
      "needs_background": "light"
     },
     "output_type": "display_data"
    }
   ],
   "source": [
    "pca_results(azdias, pca_azdias_180, component_number = 5)\n"
   ]
  },
  {
   "cell_type": "code",
   "execution_count": 351,
   "metadata": {},
   "outputs": [
    {
     "data": {
      "text/html": [
       "<div>\n",
       "<style scoped>\n",
       "    .dataframe tbody tr th:only-of-type {\n",
       "        vertical-align: middle;\n",
       "    }\n",
       "\n",
       "    .dataframe tbody tr th {\n",
       "        vertical-align: top;\n",
       "    }\n",
       "\n",
       "    .dataframe thead th {\n",
       "        text-align: right;\n",
       "    }\n",
       "</style>\n",
       "<table border=\"1\" class=\"dataframe\">\n",
       "  <thead>\n",
       "    <tr style=\"text-align: right;\">\n",
       "      <th></th>\n",
       "      <th>Weight</th>\n",
       "      <th>Description</th>\n",
       "    </tr>\n",
       "  </thead>\n",
       "  <tbody>\n",
       "    <tr>\n",
       "      <th>SEMIO_KULT</th>\n",
       "      <td>0.1722</td>\n",
       "      <td>affinity indicating in what way the person is ...</td>\n",
       "    </tr>\n",
       "    <tr>\n",
       "      <th>KBA13_KW_61_120</th>\n",
       "      <td>0.1629</td>\n",
       "      <td>share of cars with an engine power between 61 ...</td>\n",
       "    </tr>\n",
       "    <tr>\n",
       "      <th>SEMIO_FAM</th>\n",
       "      <td>0.1625</td>\n",
       "      <td>affinity indicating in what way the person is ...</td>\n",
       "    </tr>\n",
       "    <tr>\n",
       "      <th>SEMIO_VERT</th>\n",
       "      <td>0.1576</td>\n",
       "      <td>affinity indicating in what way the person is ...</td>\n",
       "    </tr>\n",
       "    <tr>\n",
       "      <th>SEMIO_ERL</th>\n",
       "      <td>-0.1636</td>\n",
       "      <td>affinity indicating in what way the person is ...</td>\n",
       "    </tr>\n",
       "    <tr>\n",
       "      <th>SEMIO_KAEM</th>\n",
       "      <td>-0.1686</td>\n",
       "      <td>affinity indicating in what way the person is ...</td>\n",
       "    </tr>\n",
       "    <tr>\n",
       "      <th>KBA13_KW_0_60</th>\n",
       "      <td>-0.1776</td>\n",
       "      <td>share of cars up to 60 KW engine power - PLZ8</td>\n",
       "    </tr>\n",
       "  </tbody>\n",
       "</table>\n",
       "</div>"
      ],
      "text/plain": [
       "                 Weight                                        Description\n",
       "SEMIO_KULT       0.1722  affinity indicating in what way the person is ...\n",
       "KBA13_KW_61_120  0.1629  share of cars with an engine power between 61 ...\n",
       "SEMIO_FAM        0.1625  affinity indicating in what way the person is ...\n",
       "SEMIO_VERT       0.1576  affinity indicating in what way the person is ...\n",
       "SEMIO_ERL       -0.1636  affinity indicating in what way the person is ...\n",
       "SEMIO_KAEM      -0.1686  affinity indicating in what way the person is ...\n",
       "KBA13_KW_0_60   -0.1776      share of cars up to 60 KW engine power - PLZ8"
      ]
     },
     "execution_count": 351,
     "metadata": {},
     "output_type": "execute_result"
    },
    {
     "data": {
      "image/png": "[encoded data removed]",
      "text/plain": [
       "<matplotlib.figure.Figure at 0x7fe06ff278d0>"
      ]
     },
     "metadata": {
      "needs_background": "light"
     },
     "output_type": "display_data"
    }
   ],
   "source": [
    "pca_results(azdias, pca_azdias_180, component_number = 6)\n"
   ]
  },
  {
   "cell_type": "code",
   "execution_count": 139,
   "metadata": {},
   "outputs": [
    {
     "data": {
      "text/html": [
       "<div>\n",
       "<style scoped>\n",
       "    .dataframe tbody tr th:only-of-type {\n",
       "        vertical-align: middle;\n",
       "    }\n",
       "\n",
       "    .dataframe tbody tr th {\n",
       "        vertical-align: top;\n",
       "    }\n",
       "\n",
       "    .dataframe thead th {\n",
       "        text-align: right;\n",
       "    }\n",
       "</style>\n",
       "<table border=\"1\" class=\"dataframe\">\n",
       "  <thead>\n",
       "    <tr style=\"text-align: right;\">\n",
       "      <th></th>\n",
       "      <th>Weight</th>\n",
       "      <th>Description</th>\n",
       "    </tr>\n",
       "  </thead>\n",
       "  <tbody>\n",
       "    <tr>\n",
       "      <th>ANZ_HH_TITEL</th>\n",
       "      <td>0.3678</td>\n",
       "      <td>number of academic title holder in building</td>\n",
       "    </tr>\n",
       "    <tr>\n",
       "      <th>ANZ_TITEL</th>\n",
       "      <td>0.3441</td>\n",
       "      <td>number of professional title holder in household</td>\n",
       "    </tr>\n",
       "    <tr>\n",
       "      <th>KBA05_ANTG2</th>\n",
       "      <td>0.1689</td>\n",
       "      <td>number of 3-5 family houses in the cell</td>\n",
       "    </tr>\n",
       "    <tr>\n",
       "      <th>KBA13_CCM_3000</th>\n",
       "      <td>-0.0998</td>\n",
       "      <td>share of cars with 2500ccm to 2999ccm within t...</td>\n",
       "    </tr>\n",
       "    <tr>\n",
       "      <th>KBA05_KRSZUL</th>\n",
       "      <td>-0.1267</td>\n",
       "      <td>share of newbuilt cars (referred to the county...</td>\n",
       "    </tr>\n",
       "    <tr>\n",
       "      <th>KBA05_ZUL4</th>\n",
       "      <td>-0.1446</td>\n",
       "      <td>share of cars built from 2003 on</td>\n",
       "    </tr>\n",
       "  </tbody>\n",
       "</table>\n",
       "</div>"
      ],
      "text/plain": [
       "                Weight                                        Description\n",
       "ANZ_HH_TITEL    0.3678        number of academic title holder in building\n",
       "ANZ_TITEL       0.3441  number of professional title holder in household \n",
       "KBA05_ANTG2     0.1689            number of 3-5 family houses in the cell\n",
       "KBA13_CCM_3000 -0.0998  share of cars with 2500ccm to 2999ccm within t...\n",
       "KBA05_KRSZUL   -0.1267  share of newbuilt cars (referred to the county...\n",
       "KBA05_ZUL4     -0.1446                   share of cars built from 2003 on"
      ]
     },
     "execution_count": 139,
     "metadata": {},
     "output_type": "execute_result"
    },
    {
     "data": {
      "image/png": "[encoded data removed]",
      "text/plain": [
       "<matplotlib.figure.Figure at 0x7f26ed0d8a58>"
      ]
     },
     "metadata": {
      "needs_background": "light"
     },
     "output_type": "display_data"
    }
   ],
   "source": [
    "pca_results(azdias, pca_azdias_180, component_number = 52)\n"
   ]
  },
  {
   "cell_type": "markdown",
   "metadata": {},
   "source": [
    "Now, K-mean method is being used for clustering azdias dataset. First, we should pick the K, based on the elbow plot below, 8 cluster looks to be sufficient."
   ]
  },
  {
   "cell_type": "code",
   "execution_count": 121,
   "metadata": {},
   "outputs": [],
   "source": [
    "def elbow_plot(data, start_K, end_K, step):\n",
    "    '''\n",
    "    Generate an elbow plot to find optimal number of clusters\n",
    "    graphing K values from start_K to end_K every step value\n",
    "    \n",
    "    INPUT: \n",
    "        data: Demographics DataFrame\n",
    "        start_K: Inclusive starting value for cluster number\n",
    "        end_K: Exclusive stopping value for cluster number\n",
    "        step: Step value between start_K and end_K\n",
    "    OUTPUT: Trimmed and cleaned demographics DataFrame\n",
    "    '''\n",
    "    score_list = []\n",
    "\n",
    "    for i in range(start_K, end_K, step):\n",
    "        print(i)\n",
    "        start = time.time()\n",
    "        kmeans = KMeans(i)\n",
    "        model = kmeans.fit(data)\n",
    "        score = model.score(data)\n",
    "        score_list.append(abs(score))\n",
    "        end = time.time()\n",
    "        elapsed_time = end - start\n",
    "        print(elapsed_time)\n",
    "\n",
    "    plt.plot(range(start_K, end_K, step), \n",
    "    score_list, linestyle='--', marker='o', color='b');\n",
    "    plt.xlabel('# of clusters K');\n",
    "    plt.ylabel('Sum of squared errors');\n",
    "    plt.title('SSE vs. K');\n",
    "    plt.savefig('elbow_plot.png')\n"
   ]
  },
  {
   "cell_type": "code",
   "execution_count": 122,
   "metadata": {},
   "outputs": [
    {
     "name": "stdout",
     "output_type": "stream",
     "text": [
      "1\n",
      "24.430671453475952\n",
      "6\n",
      "252.2356059551239\n",
      "11\n",
      "570.7839424610138\n",
      "16\n",
      "763.8868539333344\n",
      "21\n",
      "933.8693087100983\n",
      "26\n",
      "1436.802582025528\n",
      "31\n",
      "1545.991328239441\n",
      "36\n",
      "1926.4310884475708\n",
      "41\n",
      "2146.5242080688477\n",
      "46\n",
      "2527.3095667362213\n"
     ]
    },
    {
     "data": {
      "image/png": "[encoded data removed]",
      "text/plain": [
       "<matplotlib.figure.Figure at 0x7f26ec3a72b0>"
      ]
     },
     "metadata": {
      "needs_background": "light"
     },
     "output_type": "display_data"
    }
   ],
   "source": [
    "elbow_plot(pca_azdias_180_X, 1, 50, 5)\n"
   ]
  },
  {
   "cell_type": "markdown",
   "metadata": {},
   "source": [
    "The K-mean model with K=8 is fit to azdias dataset and is used to make prediction of the cluster labels. Then the same model is used to transform and predict clusters for customers dataset."
   ]
  },
  {
   "cell_type": "code",
   "execution_count": 123,
   "metadata": {},
   "outputs": [],
   "source": [
    "azdias_kmeans = KMeans(20, random_state=3425)\n",
    "azdias_model = azdias_kmeans.fit(pca_azdias_180_X)\n",
    "azdias_labels = azdias_model.predict(pca_azdias_180_X)\n",
    "pca_customers_180 = pca_azdias_180.transform(customers)\n",
    "customers_labels = azdias_model.predict(pca_customers_180)"
   ]
  },
  {
   "cell_type": "markdown",
   "metadata": {},
   "source": [
    "Below, we calculate the proportions of each cluster for the azdias dataset. We also include the data that was initially removed due to too many NaNs when calculating the proportions and include this data as cluster -1.\n",
    "Then we do the same to customers dataset. And finally compare the distribution of the population over the clusters for azdias and customers dataset."
   ]
  },
  {
   "cell_type": "code",
   "execution_count": 124,
   "metadata": {},
   "outputs": [
    {
     "data": {
      "text/plain": [
       "array([[ -1.        ,  12.8941082 ],\n",
       "       [  0.        ,   4.8783635 ],\n",
       "       [  1.        ,   6.44565153],\n",
       "       [  2.        ,   5.59266445],\n",
       "       [  3.        ,   3.30703608],\n",
       "       [  4.        ,   2.8558573 ],\n",
       "       [  5.        ,   5.863641  ],\n",
       "       [  6.        ,   5.52433123],\n",
       "       [  7.        ,   0.34278815],\n",
       "       [  8.        ,   3.3294772 ],\n",
       "       [  9.        ,   6.01601623],\n",
       "       [ 10.        ,   4.28041978],\n",
       "       [ 11.        ,   6.32065447],\n",
       "       [ 12.        ,   4.74304353],\n",
       "       [ 13.        ,   3.36605623],\n",
       "       [ 14.        ,   4.69681482],\n",
       "       [ 15.        ,   1.64291461],\n",
       "       [ 16.        ,   2.7319823 ],\n",
       "       [ 17.        ,   4.11132592],\n",
       "       [ 18.        ,   5.04958927],\n",
       "       [ 19.        ,   6.00726419]])"
      ]
     },
     "execution_count": 124,
     "metadata": {},
     "output_type": "execute_result"
    }
   ],
   "source": [
    "general_pop = 891221\n",
    "\n",
    "azdias_counter = Counter(azdias_labels)\n",
    "azdias_proportions = [(i, azdias_counter[i] / general_pop * 100.0) for i in azdias_counter]\n",
    "azdias_proportions.sort(key=itemgetter(0))\n",
    "azdias_proportions = np.array(azdias_proportions)\n",
    "\n",
    "dropped_gen_pop = 100 - azdias_proportions[:, 1].astype(np.float).sum()\n",
    "\n",
    "azdias_proportions = np.insert(azdias_proportions, 0, values=[-1, dropped_gen_pop], axis=0)\n",
    "azdias_proportions\n"
   ]
  },
  {
   "cell_type": "code",
   "execution_count": 125,
   "metadata": {},
   "outputs": [
    {
     "data": {
      "text/plain": [
       "array([[ -1.        ,  27.57497965],\n",
       "       [  0.        ,   0.36837601],\n",
       "       [  1.        ,  15.94295911],\n",
       "       [  2.        ,   3.49957214],\n",
       "       [  3.        ,   1.81213867],\n",
       "       [  4.        ,   1.45158934],\n",
       "       [  5.        ,   2.94544278],\n",
       "       [  6.        ,   4.52643333],\n",
       "       [  7.        ,   1.41402125],\n",
       "       [  8.        ,   5.56686077],\n",
       "       [  9.        ,   5.99054536],\n",
       "       [ 10.        ,   0.79049527],\n",
       "       [ 11.        ,   0.33759105],\n",
       "       [ 12.        ,   0.80249619],\n",
       "       [ 13.        ,   0.8296287 ],\n",
       "       [ 14.        ,  10.50341244],\n",
       "       [ 15.        ,   0.51134348],\n",
       "       [ 16.        ,   1.85753345],\n",
       "       [ 17.        ,   2.55149959],\n",
       "       [ 18.        ,   1.10721516],\n",
       "       [ 19.        ,   9.61586626]])"
      ]
     },
     "execution_count": 125,
     "metadata": {},
     "output_type": "execute_result"
    }
   ],
   "source": [
    "cust_pop = 191652\n",
    "\n",
    "customers_counter = Counter(customers_labels)\n",
    "customers_proportions = [(i, customers_counter[i] / cust_pop * 100.0) for i in customers_counter]\n",
    "customers_proportions.sort(key=itemgetter(0))\n",
    "customers_proportions = np.array(customers_proportions)\n",
    "\n",
    "dropped_cust_pop = 100 - customers_proportions[:, 1].astype(np.float).sum()\n",
    "\n",
    "customers_proportions = np.insert(customers_proportions, 0, values=[-1, dropped_cust_pop], axis=0)\n",
    "customers_proportions\n"
   ]
  },
  {
   "cell_type": "code",
   "execution_count": 126,
   "metadata": {},
   "outputs": [],
   "source": [
    "# Compare the proportion of data in each cluster for the customer data to the\n",
    "# proportion of data in each cluster for the general population.\n",
    "representation_ratio = customers_proportions[:, 1]/azdias_proportions[:, 1]\n"
   ]
  },
  {
   "cell_type": "code",
   "execution_count": 130,
   "metadata": {},
   "outputs": [
    {
     "data": {
      "image/png": "[encoded data removed]",
      "text/plain": [
       "<matplotlib.figure.Figure at 0x7f268e35fbe0>"
      ]
     },
     "metadata": {
      "needs_background": "light"
     },
     "output_type": "display_data"
    }
   ],
   "source": [
    "# Plot the proportions for the general population, the customer population,\n",
    "# and the ratio of customer/general populations.\n",
    "plt.figure(figsize=(10, 10))\n",
    "\n",
    "ax1 = plt.subplot(311)\n",
    "ax1.bar(azdias_proportions[:, 0], azdias_proportions[:, 1])\n",
    "ax1.set_xticks(azdias_proportions[:, 0])\n",
    "ax1.set_ylim(ymax = 35)\n",
    "ax1.set_xlabel(\"Cluster\")\n",
    "ax1.set_ylabel(\"Proportion of Total (%)\")\n",
    "plt.title('General Population')\n",
    "\n",
    "\n",
    "ax2 = plt.subplot(312)\n",
    "ax2.bar(customers_proportions[:, 0], customers_proportions[:, 1])\n",
    "ax2.set_xticks(azdias_proportions[:, 0])\n",
    "ax2.set_ylim(ymax = 35)\n",
    "ax2.set_xlabel(\"Cluster\")\n",
    "ax2.set_ylabel(\"Proportion of Total (%)\")\n",
    "plt.title('Customer Population')\n",
    "\n",
    "ax3 = plt.subplot(313)\n",
    "ax3.bar(azdias_proportions[:, 0], representation_ratio)\n",
    "ax3.set_xticks(azdias_proportions[:, 0])\n",
    "ax3.set_xlabel(\"Cluster\")\n",
    "ax3.set_ylabel(\"Representation Ratio\")\n",
    "ax3.axhline(y=1, linestyle = \"--\", linewidth = 0.8)\n",
    "plt.title('Customer Population/General Population')\n",
    "plt.tight_layout()\n",
    "plt.savefig('population_proportions.png');\n"
   ]
  },
  {
   "cell_type": "markdown",
   "metadata": {},
   "source": [
    "Above graphs shows that people in clusters 0, 2 and 5 are more likely to become customers. If we look at the components with highest and lowest weights for these three clusters (below), we can see in all clusters, component 1 has the highest weight. As mentioned before, component 1 looks to be more related high income people. So maybe focusing on these groups and looking more closely to component 1 can provide insights on potential customers."
   ]
  },
  {
   "cell_type": "code",
   "execution_count": 132,
   "metadata": {},
   "outputs": [
    {
     "name": "stdout",
     "output_type": "stream",
     "text": [
      "    Weights  Component\n",
      "51  7.27577         52\n",
      "     Weights  Component\n",
      "95 -2.935955         96\n"
     ]
    }
   ],
   "source": [
    "# What kinds of people are part of a cluster that is overrepresented in the\n",
    "# customer data compared to the general population?\n",
    "\n",
    "weights_7 = azdias_model.cluster_centers_[7]\n",
    "components_7 = list(range(1, 181))\n",
    "cluster_components_7 = pd.DataFrame({'Weights': weights_7, 'Component': components_7})\n",
    "print(cluster_components_7.sort_values('Weights',ascending=False).head(1))\n",
    "print(cluster_components_7.sort_values('Weights',ascending=False).tail(1))\n"
   ]
  },
  {
   "cell_type": "code",
   "execution_count": 134,
   "metadata": {},
   "outputs": [
    {
     "name": "stdout",
     "output_type": "stream",
     "text": [
      "    Weights  Component\n",
      "0  2.895626          1\n",
      "    Weights  Component\n",
      "6 -2.643177          7\n"
     ]
    }
   ],
   "source": [
    "# What kinds of people are part of a cluster that is underrepresented in the\n",
    "# customer data compared to the general population?\n",
    "\n",
    "weights_1 = azdias_model.cluster_centers_[1]\n",
    "components_1 = list(range(1, 181))\n",
    "cluster_components_1 = pd.DataFrame({'Weights': weights_1, 'Component': components_1})\n",
    "print(cluster_components_1.sort_values('Weights',ascending=False).head(1))\n",
    "print(cluster_components_1.sort_values('Weights',ascending=False).tail(1))\n"
   ]
  },
  {
   "cell_type": "code",
   "execution_count": 135,
   "metadata": {},
   "outputs": [
    {
     "name": "stdout",
     "output_type": "stream",
     "text": [
      "    Weights  Component\n",
      "0  6.615261          1\n",
      "     Weights  Component\n",
      "14 -0.973843         15\n"
     ]
    }
   ],
   "source": [
    "weights_14 = azdias_model.cluster_centers_[14]\n",
    "components_14 = list(range(1, 181))\n",
    "cluster_components_14 = pd.DataFrame({'Weights': weights_14, 'Component': components_14})\n",
    "print(cluster_components_14.sort_values('Weights',ascending=False).head(1))\n",
    "print(cluster_components_14.sort_values('Weights',ascending=False).tail(1))\n"
   ]
  },
  {
   "cell_type": "code",
   "execution_count": 136,
   "metadata": {},
   "outputs": [
    {
     "name": "stdout",
     "output_type": "stream",
     "text": [
      "    Weights  Component\n",
      "0  4.251872          1\n",
      "    Weights  Component\n",
      "1 -7.607958          2\n"
     ]
    }
   ],
   "source": [
    "weights_8 = azdias_model.cluster_centers_[8]\n",
    "components_8 = list(range(1, 181))\n",
    "cluster_components_8 = pd.DataFrame({'Weights': weights_8, 'Component': components_8})\n",
    "print(cluster_components_8.sort_values('Weights',ascending=False).head(1))\n",
    "print(cluster_components_8.sort_values('Weights',ascending=False).tail(1))\n"
   ]
  },
  {
   "cell_type": "code",
   "execution_count": 137,
   "metadata": {},
   "outputs": [
    {
     "name": "stdout",
     "output_type": "stream",
     "text": [
      "    Weights  Component\n",
      "0  6.615261          1\n",
      "     Weights  Component\n",
      "14 -0.973843         15\n"
     ]
    }
   ],
   "source": [
    "weights_19 = azdias_model.cluster_centers_[14]\n",
    "components_19 = list(range(1, 181))\n",
    "cluster_components_19 = pd.DataFrame({'Weights': weights_19, 'Component': components_19})\n",
    "print(cluster_components_19.sort_values('Weights',ascending=False).head(1))\n",
    "print(cluster_components_19.sort_values('Weights',ascending=False).tail(1))\n"
   ]
  },
  {
   "cell_type": "markdown",
   "metadata": {},
   "source": [
    "## Part 2: Supervised Learning Model\n",
    "\n",
    "Now that you've found which parts of the population are more likely to be customers of the mail-order company, it's time to build a prediction model. Each of the rows in the \"MAILOUT\" data files represents an individual that was targeted for a mailout campaign. Ideally, we should be able to use the demographic information from each individual to decide whether or not it will be worth it to include that person in the campaign.\n",
    "\n",
    "The \"MAILOUT\" data has been split into two approximately equal parts, each with almost 43 000 data rows. In this part, you can verify your model with the \"TRAIN\" partition, which includes a column, \"RESPONSE\", that states whether or not a person became a customer of the company following the campaign. In the next part, you'll need to create predictions on the \"TEST\" partition, where the \"RESPONSE\" column has been withheld."
   ]
  },
  {
   "cell_type": "code",
   "execution_count": 71,
   "metadata": {},
   "outputs": [
    {
     "data": {
      "text/html": [
       "<div>\n",
       "<style scoped>\n",
       "    .dataframe tbody tr th:only-of-type {\n",
       "        vertical-align: middle;\n",
       "    }\n",
       "\n",
       "    .dataframe tbody tr th {\n",
       "        vertical-align: top;\n",
       "    }\n",
       "\n",
       "    .dataframe thead th {\n",
       "        text-align: right;\n",
       "    }\n",
       "</style>\n",
       "<table border=\"1\" class=\"dataframe\">\n",
       "  <thead>\n",
       "    <tr style=\"text-align: right;\">\n",
       "      <th></th>\n",
       "      <th>LNR</th>\n",
       "      <th>AGER_TYP</th>\n",
       "      <th>AKT_DAT_KL</th>\n",
       "      <th>ALTER_HH</th>\n",
       "      <th>ALTER_KIND1</th>\n",
       "      <th>ALTER_KIND2</th>\n",
       "      <th>ALTER_KIND3</th>\n",
       "      <th>ALTER_KIND4</th>\n",
       "      <th>ALTERSKATEGORIE_FEIN</th>\n",
       "      <th>ANZ_HAUSHALTE_AKTIV</th>\n",
       "      <th>...</th>\n",
       "      <th>VK_DHT4A</th>\n",
       "      <th>VK_DISTANZ</th>\n",
       "      <th>VK_ZG11</th>\n",
       "      <th>W_KEIT_KIND_HH</th>\n",
       "      <th>WOHNDAUER_2008</th>\n",
       "      <th>WOHNLAGE</th>\n",
       "      <th>ZABEOTYP</th>\n",
       "      <th>RESPONSE</th>\n",
       "      <th>ANREDE_KZ</th>\n",
       "      <th>ALTERSKATEGORIE_GROB</th>\n",
       "    </tr>\n",
       "  </thead>\n",
       "  <tbody>\n",
       "    <tr>\n",
       "      <th>0</th>\n",
       "      <td>1763</td>\n",
       "      <td>2</td>\n",
       "      <td>1.0</td>\n",
       "      <td>8.0</td>\n",
       "      <td>NaN</td>\n",
       "      <td>NaN</td>\n",
       "      <td>NaN</td>\n",
       "      <td>NaN</td>\n",
       "      <td>8.0</td>\n",
       "      <td>15.0</td>\n",
       "      <td>...</td>\n",
       "      <td>5.0</td>\n",
       "      <td>2.0</td>\n",
       "      <td>1.0</td>\n",
       "      <td>6.0</td>\n",
       "      <td>9.0</td>\n",
       "      <td>3.0</td>\n",
       "      <td>3</td>\n",
       "      <td>0</td>\n",
       "      <td>2</td>\n",
       "      <td>4</td>\n",
       "    </tr>\n",
       "    <tr>\n",
       "      <th>1</th>\n",
       "      <td>1771</td>\n",
       "      <td>1</td>\n",
       "      <td>4.0</td>\n",
       "      <td>13.0</td>\n",
       "      <td>NaN</td>\n",
       "      <td>NaN</td>\n",
       "      <td>NaN</td>\n",
       "      <td>NaN</td>\n",
       "      <td>13.0</td>\n",
       "      <td>1.0</td>\n",
       "      <td>...</td>\n",
       "      <td>1.0</td>\n",
       "      <td>2.0</td>\n",
       "      <td>1.0</td>\n",
       "      <td>4.0</td>\n",
       "      <td>9.0</td>\n",
       "      <td>7.0</td>\n",
       "      <td>1</td>\n",
       "      <td>0</td>\n",
       "      <td>2</td>\n",
       "      <td>3</td>\n",
       "    </tr>\n",
       "    <tr>\n",
       "      <th>2</th>\n",
       "      <td>1776</td>\n",
       "      <td>1</td>\n",
       "      <td>1.0</td>\n",
       "      <td>9.0</td>\n",
       "      <td>NaN</td>\n",
       "      <td>NaN</td>\n",
       "      <td>NaN</td>\n",
       "      <td>NaN</td>\n",
       "      <td>7.0</td>\n",
       "      <td>0.0</td>\n",
       "      <td>...</td>\n",
       "      <td>6.0</td>\n",
       "      <td>4.0</td>\n",
       "      <td>2.0</td>\n",
       "      <td>NaN</td>\n",
       "      <td>9.0</td>\n",
       "      <td>2.0</td>\n",
       "      <td>3</td>\n",
       "      <td>0</td>\n",
       "      <td>1</td>\n",
       "      <td>4</td>\n",
       "    </tr>\n",
       "    <tr>\n",
       "      <th>3</th>\n",
       "      <td>1460</td>\n",
       "      <td>2</td>\n",
       "      <td>1.0</td>\n",
       "      <td>6.0</td>\n",
       "      <td>NaN</td>\n",
       "      <td>NaN</td>\n",
       "      <td>NaN</td>\n",
       "      <td>NaN</td>\n",
       "      <td>6.0</td>\n",
       "      <td>4.0</td>\n",
       "      <td>...</td>\n",
       "      <td>8.0</td>\n",
       "      <td>11.0</td>\n",
       "      <td>11.0</td>\n",
       "      <td>6.0</td>\n",
       "      <td>9.0</td>\n",
       "      <td>1.0</td>\n",
       "      <td>3</td>\n",
       "      <td>0</td>\n",
       "      <td>2</td>\n",
       "      <td>4</td>\n",
       "    </tr>\n",
       "    <tr>\n",
       "      <th>4</th>\n",
       "      <td>1783</td>\n",
       "      <td>2</td>\n",
       "      <td>1.0</td>\n",
       "      <td>9.0</td>\n",
       "      <td>NaN</td>\n",
       "      <td>NaN</td>\n",
       "      <td>NaN</td>\n",
       "      <td>NaN</td>\n",
       "      <td>9.0</td>\n",
       "      <td>53.0</td>\n",
       "      <td>...</td>\n",
       "      <td>2.0</td>\n",
       "      <td>2.0</td>\n",
       "      <td>1.0</td>\n",
       "      <td>6.0</td>\n",
       "      <td>9.0</td>\n",
       "      <td>3.0</td>\n",
       "      <td>3</td>\n",
       "      <td>0</td>\n",
       "      <td>1</td>\n",
       "      <td>3</td>\n",
       "    </tr>\n",
       "  </tbody>\n",
       "</table>\n",
       "<p>5 rows × 367 columns</p>\n",
       "</div>"
      ],
      "text/plain": [
       "    LNR  AGER_TYP  AKT_DAT_KL  ALTER_HH  ALTER_KIND1  ALTER_KIND2  \\\n",
       "0  1763         2         1.0       8.0          NaN          NaN   \n",
       "1  1771         1         4.0      13.0          NaN          NaN   \n",
       "2  1776         1         1.0       9.0          NaN          NaN   \n",
       "3  1460         2         1.0       6.0          NaN          NaN   \n",
       "4  1783         2         1.0       9.0          NaN          NaN   \n",
       "\n",
       "   ALTER_KIND3  ALTER_KIND4  ALTERSKATEGORIE_FEIN  ANZ_HAUSHALTE_AKTIV  \\\n",
       "0          NaN          NaN                   8.0                 15.0   \n",
       "1          NaN          NaN                  13.0                  1.0   \n",
       "2          NaN          NaN                   7.0                  0.0   \n",
       "3          NaN          NaN                   6.0                  4.0   \n",
       "4          NaN          NaN                   9.0                 53.0   \n",
       "\n",
       "          ...           VK_DHT4A  VK_DISTANZ  VK_ZG11  W_KEIT_KIND_HH  \\\n",
       "0         ...                5.0         2.0      1.0             6.0   \n",
       "1         ...                1.0         2.0      1.0             4.0   \n",
       "2         ...                6.0         4.0      2.0             NaN   \n",
       "3         ...                8.0        11.0     11.0             6.0   \n",
       "4         ...                2.0         2.0      1.0             6.0   \n",
       "\n",
       "   WOHNDAUER_2008  WOHNLAGE  ZABEOTYP RESPONSE ANREDE_KZ ALTERSKATEGORIE_GROB  \n",
       "0             9.0       3.0         3        0         2                    4  \n",
       "1             9.0       7.0         1        0         2                    3  \n",
       "2             9.0       2.0         3        0         1                    4  \n",
       "3             9.0       1.0         3        0         2                    4  \n",
       "4             9.0       3.0         3        0         1                    3  \n",
       "\n",
       "[5 rows x 367 columns]"
      ]
     },
     "execution_count": 71,
     "metadata": {},
     "output_type": "execute_result"
    }
   ],
   "source": [
    "mailout_train = pd.read_csv('../../data/Term2/capstone/arvato_data/Udacity_MAILOUT_052018_TRAIN.csv', sep=';',dtype={18:'str',19:'str'})\n",
    "\n",
    "mailout_train.head()"
   ]
  },
  {
   "cell_type": "code",
   "execution_count": 72,
   "metadata": {},
   "outputs": [
    {
     "name": "stdout",
     "output_type": "stream",
     "text": [
      "(42962, 353)\n"
     ]
    }
   ],
   "source": [
    "attr_values=pd.read_csv(r\"/home/workspace/DIAS Attributes - Values 2017.csv\",encoding='latin1')\n",
    "\n",
    "unwanted_list=['LP_LEBENSPHASE_GROB','LP_STATUS_FEIN','LP_LEBENSPHASE_FEIN','CAMEO_INTL_2015','ALTER_KIND4','ALTER_KIND3','ALTER_KIND2','ALTER_KIND1','TITEL_KZ','KK_KUNDENTYP','KBA05_BAUMAX','AGER_TYP','EXTSEL992','EINGEFUEGT_AM']\n",
    "\n",
    "mailout_train.drop(unwanted_list,axis=1,inplace=True)\n",
    "print(mailout_train.shape)\n"
   ]
  },
  {
   "cell_type": "code",
   "execution_count": 73,
   "metadata": {},
   "outputs": [],
   "source": [
    "def data_preprocessing2(df,percentage_row,nan_non_numeric):\n",
    "    print('Cleaning data...')\n",
    "    data_clean(df)\n",
    "    print('Removing rows with more than {}% nan value...'.format(percentage_row*100))\n",
    "    remove_row_nan(df,percentage_row)\n",
    "    print('Replacing remaining nan values...')\n",
    "    replace_nan(df,nan_non_numeric)\n",
    "    print('Data is ready!')\n"
   ]
  },
  {
   "cell_type": "markdown",
   "metadata": {},
   "source": [
    "Data processing is done here, without removing columns with nan values is the dataframe."
   ]
  },
  {
   "cell_type": "code",
   "execution_count": 74,
   "metadata": {},
   "outputs": [
    {
     "name": "stdout",
     "output_type": "stream",
     "text": [
      "Cleaning data...\n",
      "Removing rows with more than 20.0% nan value...\n",
      "Replacing remaining nan values...\n",
      "Data is ready!\n"
     ]
    }
   ],
   "source": [
    "data_preprocessing2(mailout_train,0.2,'zero')"
   ]
  },
  {
   "cell_type": "markdown",
   "metadata": {},
   "source": [
    "X and y are defined to be used in supervised learning model later."
   ]
  },
  {
   "cell_type": "code",
   "execution_count": 75,
   "metadata": {},
   "outputs": [
    {
     "data": {
      "text/plain": [
       "((34876,), (34876, 351))"
      ]
     },
     "execution_count": 75,
     "metadata": {},
     "output_type": "execute_result"
    }
   ],
   "source": [
    "X=mailout_train.drop(['RESPONSE','LNR'],axis=1)#[columns]\n",
    "y = mailout_train['RESPONSE']\n",
    "y.shape, X.shape"
   ]
  },
  {
   "cell_type": "markdown",
   "metadata": {},
   "source": [
    "Let's check the response, it looks like the data is highly imbalanced, only 1.2% of people were customers."
   ]
  },
  {
   "cell_type": "code",
   "execution_count": 89,
   "metadata": {},
   "outputs": [
    {
     "data": {
      "text/plain": [
       "1.2358068585847002"
      ]
     },
     "execution_count": 89,
     "metadata": {},
     "output_type": "execute_result"
    }
   ],
   "source": [
    "y.sum()/y.count()*100"
   ]
  },
  {
   "cell_type": "markdown",
   "metadata": {},
   "source": [
    "Here we keep all the columns (except the ones removed at the very top) to keep as much information as possible. This is possible since the dataset is smaller here. All the columns with data type 'object' are taken as nominal columns."
   ]
  },
  {
   "cell_type": "code",
   "execution_count": 77,
   "metadata": {},
   "outputs": [
    {
     "name": "stdout",
     "output_type": "stream",
     "text": [
      "CAMEO_DEU_2015\n",
      "CAMEO_DEUG_2015\n",
      "D19_LETZTER_KAUF_BRANCHE\n",
      "OST_WEST_KZ\n"
     ]
    },
    {
     "data": {
      "text/plain": [
       "28"
      ]
     },
     "execution_count": 77,
     "metadata": {},
     "output_type": "execute_result"
    }
   ],
   "source": [
    "columns=list((set(mailout_train.columns)).intersection(set(attr_values['Attribute'])))\n",
    "\n",
    "\n",
    "numeric_list=attr_values[attr_values['level']=='numeric']['Attribute']\n",
    "ordinal_list=attr_values[attr_values['level']=='ordinal']['Attribute']\n",
    "nominal_list=attr_values[attr_values['level']=='nominal']['Attribute']\n",
    "\n",
    "numeric_list=list(set(numeric_list).intersection(set(columns)))\n",
    "nominal_list=list(set(nominal_list).intersection(set(columns)))\n",
    "ordinal_list=list(set(ordinal_list).intersection(set(columns)))\n",
    "\n",
    "for i in X.columns:\n",
    "    if X[i].dtype=='object':\n",
    "        print(i)\n",
    "        nominal_list.append(i)\n",
    "nominal_list=list(set(nominal_list))\n",
    "len(nominal_list)\n"
   ]
  },
  {
   "cell_type": "markdown",
   "metadata": {},
   "source": [
    "One hot encoder is done to all nominal values. The number of featues increases from 284 to 485 since we have kept nominal values with lots of categories.\n",
    "Next, standard scaler is applied to the dataset."
   ]
  },
  {
   "cell_type": "code",
   "execution_count": 78,
   "metadata": {},
   "outputs": [
    {
     "name": "stdout",
     "output_type": "stream",
     "text": [
      "(34876, 564)\n"
     ]
    }
   ],
   "source": [
    "nominal_dummies_X=pd.get_dummies(X[nominal_list].astype('object'))\n",
    "X.drop(nominal_list, axis=1, inplace = True)\n",
    "X = pd.concat([X,nominal_dummies_X], axis = 1)\n",
    "print(X.shape)\n"
   ]
  },
  {
   "cell_type": "code",
   "execution_count": 69,
   "metadata": {},
   "outputs": [
    {
     "name": "stdout",
     "output_type": "stream",
     "text": [
      "(34876, 564)\n"
     ]
    }
   ],
   "source": [
    "scaler = StandardScaler()\n",
    "X = pd.DataFrame(scaler.fit_transform(X), columns = X.columns)\n",
    "print(X.shape)\n"
   ]
  },
  {
   "cell_type": "markdown",
   "metadata": {},
   "source": [
    "Below function is used to fit different types of classifier to (X,y) and report back the run time and area under the curve for comparison."
   ]
  },
  {
   "cell_type": "code",
   "execution_count": 16,
   "metadata": {},
   "outputs": [],
   "source": [
    "def classifier_roc(clf, param_grid, X, y=y):\n",
    "    \"\"\"\n",
    "    Fit a classifier using GridSearchCV and calculates ROC AUC\n",
    "    \n",
    "    INPUT:\n",
    "    - clf (classifier): classifier to fit\n",
    "    - param_grid (dict): classifier parameters used with GridSearchCV\n",
    "    - X (DataFrame): features of the training dataframe\n",
    "    - y (DataFrame): labels of the training dataframe\n",
    "            \n",
    "    OUTPUT:\n",
    "    - classifier: fitted classifier\n",
    "    - prints elapsed time and ROX AUC\n",
    "    \"\"\"\n",
    "        \n",
    "    start = time.time()\n",
    "    \n",
    "    grid = GridSearchCV(estimator=clf, param_grid=param_grid, scoring='roc_auc', cv=5)\n",
    "    grid.fit(X, y)\n",
    "    \n",
    "    end = time.time()\n",
    "    print(end-start)\n",
    "\n",
    "    print(grid.best_score_)\n",
    "    \n",
    "    return grid.best_estimator_\n"
   ]
  },
  {
   "cell_type": "markdown",
   "metadata": {},
   "source": [
    "Logistic Regression, Random Forest, Ada Boost, GB and SVC were applied to the features and lables in (X,y). Gradient Boosting method had slightly higher area under the curve than Ada boost but it took longer to run. Also, while area under the curve was not very high for Random Forest model, it ran very fast. I picked Ada Boost and Random Forest model for further analysis and tried to improve them using hyperparameter tuning. "
   ]
  },
  {
   "cell_type": "code",
   "execution_count": 50,
   "metadata": {},
   "outputs": [
    {
     "name": "stdout",
     "output_type": "stream",
     "text": [
      "149.99502682685852\n",
      "0.656520871363\n",
      "LogisticRegression(C=1.0, class_weight=None, dual=False, fit_intercept=True,\n",
      "          intercept_scaling=1, max_iter=100, multi_class='ovr', n_jobs=1,\n",
      "          penalty='l2', random_state=None, solver='liblinear', tol=0.0001,\n",
      "          verbose=0, warm_start=False)\n",
      "8.205735683441162\n",
      "0.529067520791\n",
      "RandomForestClassifier(bootstrap=True, class_weight=None, criterion='gini',\n",
      "            max_depth=None, max_features='auto', max_leaf_nodes=None,\n",
      "            min_impurity_decrease=0.0, min_impurity_split=None,\n",
      "            min_samples_leaf=1, min_samples_split=2,\n",
      "            min_weight_fraction_leaf=0.0, n_estimators=10, n_jobs=1,\n",
      "            oob_score=False, random_state=None, verbose=0,\n",
      "            warm_start=False)\n",
      "97.54759573936462\n",
      "0.745303967555\n",
      "AdaBoostClassifier(algorithm='SAMME.R', base_estimator=None,\n",
      "          learning_rate=1.0, n_estimators=50, random_state=None)\n",
      "343.0859160423279\n",
      "0.774243539472\n",
      "GradientBoostingClassifier(criterion='friedman_mse', init=None,\n",
      "              learning_rate=0.1, loss='deviance', max_depth=3,\n",
      "              max_features=None, max_leaf_nodes=None,\n",
      "              min_impurity_decrease=0.0, min_impurity_split=None,\n",
      "              min_samples_leaf=1, min_samples_split=2,\n",
      "              min_weight_fraction_leaf=0.0, n_estimators=100,\n",
      "              presort='auto', random_state=None, subsample=1.0, verbose=0,\n",
      "              warm_start=False)\n",
      "5541.180272102356\n",
      "0.639138772399\n",
      "SVC(C=1.0, cache_size=200, class_weight=None, coef0=0.0,\n",
      "  decision_function_shape='ovr', degree=3, gamma='auto', kernel='rbf',\n",
      "  max_iter=-1, probability=False, random_state=None, shrinking=True,\n",
      "  tol=0.001, verbose=False)\n"
     ]
    }
   ],
   "source": [
    "\n",
    "# LogisticRegression\n",
    "logreg = LogisticRegression()\n",
    "print(classifier_roc(logreg, {},X))\n",
    "\n",
    "# RandomForestClassifier\n",
    "rfc = RandomForestClassifier()\n",
    "print(classifier_roc(rfc, {},X))\n",
    "\n",
    "# AdaBoostClassifier\n",
    "ada = AdaBoostClassifier()\n",
    "print(classifier_roc(ada, {},X))\n",
    "\n",
    "# GradientBoostingClassifier\n",
    "gbc = GradientBoostingClassifier()\n",
    "print(classifier_roc(gbc, {},X))\n",
    "\n",
    "# SupportVectorMachine\n",
    "svc = SVC()\n",
    "print(classifier_roc(svc, {},X))\n"
   ]
  },
  {
   "cell_type": "markdown",
   "metadata": {},
   "source": [
    "Hyperparamet tuning for Ada Boost model is done here. The best model is identified."
   ]
  },
  {
   "cell_type": "code",
   "execution_count": 2,
   "metadata": {},
   "outputs": [
    {
     "name": "stdout",
     "output_type": "stream",
     "text": [
      "679\n"
     ]
    }
   ],
   "source": [
    "start = time.time()\n",
    "\n",
    "\n",
    "param_grid = {'algorithm': ['SAMME.R'],\n",
    "             'learning_rate': [0.01, 0.1, 1.0],\n",
    "             'n_estimators': [20, 50, 100]}\n",
    "\n",
    "grid = GridSearchCV(estimator=AdaBoostClassifier(), param_grid=param_grid, scoring='roc_auc', cv=5)\n",
    "grid.fit(X, y)\n",
    "results=pd.DataFrame(grid.cv_results_)[['params','mean_test_score','rank_test_score']]\n",
    "\n",
    "\n",
    "end = time.time()\n",
    "cv_time = end - start\n",
    "print(cv_time)\n"
   ]
  },
  {
   "cell_type": "code",
   "execution_count": 24,
   "metadata": {},
   "outputs": [
    {
     "data": {
      "text/html": [
       "<div>\n",
       "<style scoped>\n",
       "    .dataframe tbody tr th:only-of-type {\n",
       "        vertical-align: middle;\n",
       "    }\n",
       "\n",
       "    .dataframe tbody tr th {\n",
       "        vertical-align: top;\n",
       "    }\n",
       "\n",
       "    .dataframe thead th {\n",
       "        text-align: right;\n",
       "    }\n",
       "</style>\n",
       "<table border=\"1\" class=\"dataframe\">\n",
       "  <thead>\n",
       "    <tr style=\"text-align: right;\">\n",
       "      <th></th>\n",
       "      <th>params</th>\n",
       "      <th>mean_test_score</th>\n",
       "      <th>rank_test_score</th>\n",
       "    </tr>\n",
       "  </thead>\n",
       "  <tbody>\n",
       "    <tr>\n",
       "      <th>4</th>\n",
       "      <td>{'algorithm': 'SAMME.R', 'learning_rate': 0.1,...</td>\n",
       "      <td>0.769206</td>\n",
       "      <td>1</td>\n",
       "    </tr>\n",
       "    <tr>\n",
       "      <th>3</th>\n",
       "      <td>{'algorithm': 'SAMME.R', 'learning_rate': 0.1,...</td>\n",
       "      <td>0.768059</td>\n",
       "      <td>2</td>\n",
       "    </tr>\n",
       "    <tr>\n",
       "      <th>2</th>\n",
       "      <td>{'algorithm': 'SAMME.R', 'learning_rate': 0.01...</td>\n",
       "      <td>0.768009</td>\n",
       "      <td>3</td>\n",
       "    </tr>\n",
       "    <tr>\n",
       "      <th>5</th>\n",
       "      <td>{'algorithm': 'SAMME.R', 'learning_rate': 0.1,...</td>\n",
       "      <td>0.766157</td>\n",
       "      <td>4</td>\n",
       "    </tr>\n",
       "    <tr>\n",
       "      <th>1</th>\n",
       "      <td>{'algorithm': 'SAMME.R', 'learning_rate': 0.01...</td>\n",
       "      <td>0.765053</td>\n",
       "      <td>5</td>\n",
       "    </tr>\n",
       "    <tr>\n",
       "      <th>6</th>\n",
       "      <td>{'algorithm': 'SAMME.R', 'learning_rate': 1.0,...</td>\n",
       "      <td>0.759199</td>\n",
       "      <td>6</td>\n",
       "    </tr>\n",
       "    <tr>\n",
       "      <th>7</th>\n",
       "      <td>{'algorithm': 'SAMME.R', 'learning_rate': 1.0,...</td>\n",
       "      <td>0.751196</td>\n",
       "      <td>7</td>\n",
       "    </tr>\n",
       "    <tr>\n",
       "      <th>8</th>\n",
       "      <td>{'algorithm': 'SAMME.R', 'learning_rate': 1.0,...</td>\n",
       "      <td>0.730725</td>\n",
       "      <td>8</td>\n",
       "    </tr>\n",
       "    <tr>\n",
       "      <th>0</th>\n",
       "      <td>{'algorithm': 'SAMME.R', 'learning_rate': 0.01...</td>\n",
       "      <td>0.709337</td>\n",
       "      <td>9</td>\n",
       "    </tr>\n",
       "  </tbody>\n",
       "</table>\n",
       "</div>"
      ],
      "text/plain": [
       "                                              params  mean_test_score  \\\n",
       "4  {'algorithm': 'SAMME.R', 'learning_rate': 0.1,...         0.769206   \n",
       "3  {'algorithm': 'SAMME.R', 'learning_rate': 0.1,...         0.768059   \n",
       "2  {'algorithm': 'SAMME.R', 'learning_rate': 0.01...         0.768009   \n",
       "5  {'algorithm': 'SAMME.R', 'learning_rate': 0.1,...         0.766157   \n",
       "1  {'algorithm': 'SAMME.R', 'learning_rate': 0.01...         0.765053   \n",
       "6  {'algorithm': 'SAMME.R', 'learning_rate': 1.0,...         0.759199   \n",
       "7  {'algorithm': 'SAMME.R', 'learning_rate': 1.0,...         0.751196   \n",
       "8  {'algorithm': 'SAMME.R', 'learning_rate': 1.0,...         0.730725   \n",
       "0  {'algorithm': 'SAMME.R', 'learning_rate': 0.01...         0.709337   \n",
       "\n",
       "   rank_test_score  \n",
       "4                1  \n",
       "3                2  \n",
       "2                3  \n",
       "5                4  \n",
       "1                5  \n",
       "6                6  \n",
       "7                7  \n",
       "8                8  \n",
       "0                9  "
      ]
     },
     "execution_count": 24,
     "metadata": {},
     "output_type": "execute_result"
    }
   ],
   "source": [
    "results.sort_values('rank_test_score')"
   ]
  },
  {
   "cell_type": "code",
   "execution_count": 25,
   "metadata": {},
   "outputs": [
    {
     "name": "stdout",
     "output_type": "stream",
     "text": [
      "0.769206442634\n",
      "AdaBoostClassifier(algorithm='SAMME.R', base_estimator=None,\n",
      "          learning_rate=0.1, n_estimators=50, random_state=None)\n"
     ]
    }
   ],
   "source": [
    "print(grid.best_score_)\n",
    "print(grid.best_estimator_)\n"
   ]
  },
  {
   "cell_type": "markdown",
   "metadata": {},
   "source": [
    "Hyper parameter tuning for Random Forest model shows that with approperiate parameters, the area under the curve can be as high as Ada boost model."
   ]
  },
  {
   "cell_type": "code",
   "execution_count": 20,
   "metadata": {},
   "outputs": [
    {
     "name": "stdout",
     "output_type": "stream",
     "text": [
      "2439.6625657081604\n"
     ]
    },
    {
     "name": "stderr",
     "output_type": "stream",
     "text": [
      "/opt/conda/lib/python3.6/site-packages/sklearn/utils/deprecation.py:122: FutureWarning: You are accessing a training score ('split0_train_score'), which will not be available by default any more in 0.21. If you need training scores, please set return_train_score=True\n",
      "  warnings.warn(*warn_args, **warn_kwargs)\n",
      "/opt/conda/lib/python3.6/site-packages/sklearn/utils/deprecation.py:122: FutureWarning: You are accessing a training score ('split1_train_score'), which will not be available by default any more in 0.21. If you need training scores, please set return_train_score=True\n",
      "  warnings.warn(*warn_args, **warn_kwargs)\n",
      "/opt/conda/lib/python3.6/site-packages/sklearn/utils/deprecation.py:122: FutureWarning: You are accessing a training score ('split2_train_score'), which will not be available by default any more in 0.21. If you need training scores, please set return_train_score=True\n",
      "  warnings.warn(*warn_args, **warn_kwargs)\n",
      "/opt/conda/lib/python3.6/site-packages/sklearn/utils/deprecation.py:122: FutureWarning: You are accessing a training score ('split3_train_score'), which will not be available by default any more in 0.21. If you need training scores, please set return_train_score=True\n",
      "  warnings.warn(*warn_args, **warn_kwargs)\n",
      "/opt/conda/lib/python3.6/site-packages/sklearn/utils/deprecation.py:122: FutureWarning: You are accessing a training score ('split4_train_score'), which will not be available by default any more in 0.21. If you need training scores, please set return_train_score=True\n",
      "  warnings.warn(*warn_args, **warn_kwargs)\n",
      "/opt/conda/lib/python3.6/site-packages/sklearn/utils/deprecation.py:122: FutureWarning: You are accessing a training score ('mean_train_score'), which will not be available by default any more in 0.21. If you need training scores, please set return_train_score=True\n",
      "  warnings.warn(*warn_args, **warn_kwargs)\n",
      "/opt/conda/lib/python3.6/site-packages/sklearn/utils/deprecation.py:122: FutureWarning: You are accessing a training score ('std_train_score'), which will not be available by default any more in 0.21. If you need training scores, please set return_train_score=True\n",
      "  warnings.warn(*warn_args, **warn_kwargs)\n"
     ]
    },
    {
     "data": {
      "text/html": [
       "<div>\n",
       "<style scoped>\n",
       "    .dataframe tbody tr th:only-of-type {\n",
       "        vertical-align: middle;\n",
       "    }\n",
       "\n",
       "    .dataframe tbody tr th {\n",
       "        vertical-align: top;\n",
       "    }\n",
       "\n",
       "    .dataframe thead th {\n",
       "        text-align: right;\n",
       "    }\n",
       "</style>\n",
       "<table border=\"1\" class=\"dataframe\">\n",
       "  <thead>\n",
       "    <tr style=\"text-align: right;\">\n",
       "      <th></th>\n",
       "      <th>params</th>\n",
       "      <th>mean_test_score</th>\n",
       "      <th>rank_test_score</th>\n",
       "    </tr>\n",
       "  </thead>\n",
       "  <tbody>\n",
       "    <tr>\n",
       "      <th>1</th>\n",
       "      <td>{'max_depth': 3, 'max_features': 'auto', 'n_es...</td>\n",
       "      <td>0.748937</td>\n",
       "      <td>1</td>\n",
       "    </tr>\n",
       "    <tr>\n",
       "      <th>2</th>\n",
       "      <td>{'max_depth': 3, 'max_features': 'auto', 'n_es...</td>\n",
       "      <td>0.746985</td>\n",
       "      <td>2</td>\n",
       "    </tr>\n",
       "    <tr>\n",
       "      <th>7</th>\n",
       "      <td>{'max_depth': 3, 'max_features': 'sqrt', 'n_es...</td>\n",
       "      <td>0.744029</td>\n",
       "      <td>3</td>\n",
       "    </tr>\n",
       "    <tr>\n",
       "      <th>6</th>\n",
       "      <td>{'max_depth': 3, 'max_features': 'sqrt', 'n_es...</td>\n",
       "      <td>0.742736</td>\n",
       "      <td>4</td>\n",
       "    </tr>\n",
       "    <tr>\n",
       "      <th>3</th>\n",
       "      <td>{'max_depth': 3, 'max_features': 'auto', 'n_es...</td>\n",
       "      <td>0.742447</td>\n",
       "      <td>5</td>\n",
       "    </tr>\n",
       "    <tr>\n",
       "      <th>5</th>\n",
       "      <td>{'max_depth': 3, 'max_features': 'sqrt', 'n_es...</td>\n",
       "      <td>0.740880</td>\n",
       "      <td>6</td>\n",
       "    </tr>\n",
       "    <tr>\n",
       "      <th>11</th>\n",
       "      <td>{'max_depth': 10, 'max_features': 'auto', 'n_e...</td>\n",
       "      <td>0.707603</td>\n",
       "      <td>7</td>\n",
       "    </tr>\n",
       "    <tr>\n",
       "      <th>15</th>\n",
       "      <td>{'max_depth': 10, 'max_features': 'sqrt', 'n_e...</td>\n",
       "      <td>0.706628</td>\n",
       "      <td>8</td>\n",
       "    </tr>\n",
       "    <tr>\n",
       "      <th>10</th>\n",
       "      <td>{'max_depth': 10, 'max_features': 'auto', 'n_e...</td>\n",
       "      <td>0.699044</td>\n",
       "      <td>9</td>\n",
       "    </tr>\n",
       "    <tr>\n",
       "      <th>14</th>\n",
       "      <td>{'max_depth': 10, 'max_features': 'sqrt', 'n_e...</td>\n",
       "      <td>0.688240</td>\n",
       "      <td>10</td>\n",
       "    </tr>\n",
       "    <tr>\n",
       "      <th>12</th>\n",
       "      <td>{'max_depth': 10, 'max_features': 'sqrt', 'n_e...</td>\n",
       "      <td>0.687836</td>\n",
       "      <td>11</td>\n",
       "    </tr>\n",
       "    <tr>\n",
       "      <th>4</th>\n",
       "      <td>{'max_depth': 3, 'max_features': 'sqrt', 'n_es...</td>\n",
       "      <td>0.681853</td>\n",
       "      <td>12</td>\n",
       "    </tr>\n",
       "    <tr>\n",
       "      <th>13</th>\n",
       "      <td>{'max_depth': 10, 'max_features': 'sqrt', 'n_e...</td>\n",
       "      <td>0.679305</td>\n",
       "      <td>13</td>\n",
       "    </tr>\n",
       "    <tr>\n",
       "      <th>31</th>\n",
       "      <td>{'max_depth': 30, 'max_features': 'sqrt', 'n_e...</td>\n",
       "      <td>0.679141</td>\n",
       "      <td>14</td>\n",
       "    </tr>\n",
       "    <tr>\n",
       "      <th>9</th>\n",
       "      <td>{'max_depth': 10, 'max_features': 'auto', 'n_e...</td>\n",
       "      <td>0.677290</td>\n",
       "      <td>15</td>\n",
       "    </tr>\n",
       "    <tr>\n",
       "      <th>27</th>\n",
       "      <td>{'max_depth': 30, 'max_features': 'auto', 'n_e...</td>\n",
       "      <td>0.673868</td>\n",
       "      <td>16</td>\n",
       "    </tr>\n",
       "    <tr>\n",
       "      <th>23</th>\n",
       "      <td>{'max_depth': 20, 'max_features': 'sqrt', 'n_e...</td>\n",
       "      <td>0.672218</td>\n",
       "      <td>17</td>\n",
       "    </tr>\n",
       "    <tr>\n",
       "      <th>19</th>\n",
       "      <td>{'max_depth': 20, 'max_features': 'auto', 'n_e...</td>\n",
       "      <td>0.672066</td>\n",
       "      <td>18</td>\n",
       "    </tr>\n",
       "    <tr>\n",
       "      <th>22</th>\n",
       "      <td>{'max_depth': 20, 'max_features': 'sqrt', 'n_e...</td>\n",
       "      <td>0.670434</td>\n",
       "      <td>19</td>\n",
       "    </tr>\n",
       "    <tr>\n",
       "      <th>0</th>\n",
       "      <td>{'max_depth': 3, 'max_features': 'auto', 'n_es...</td>\n",
       "      <td>0.669748</td>\n",
       "      <td>20</td>\n",
       "    </tr>\n",
       "    <tr>\n",
       "      <th>30</th>\n",
       "      <td>{'max_depth': 30, 'max_features': 'sqrt', 'n_e...</td>\n",
       "      <td>0.657014</td>\n",
       "      <td>21</td>\n",
       "    </tr>\n",
       "    <tr>\n",
       "      <th>8</th>\n",
       "      <td>{'max_depth': 10, 'max_features': 'auto', 'n_e...</td>\n",
       "      <td>0.654863</td>\n",
       "      <td>22</td>\n",
       "    </tr>\n",
       "    <tr>\n",
       "      <th>18</th>\n",
       "      <td>{'max_depth': 20, 'max_features': 'auto', 'n_e...</td>\n",
       "      <td>0.653234</td>\n",
       "      <td>23</td>\n",
       "    </tr>\n",
       "    <tr>\n",
       "      <th>26</th>\n",
       "      <td>{'max_depth': 30, 'max_features': 'auto', 'n_e...</td>\n",
       "      <td>0.650670</td>\n",
       "      <td>24</td>\n",
       "    </tr>\n",
       "    <tr>\n",
       "      <th>25</th>\n",
       "      <td>{'max_depth': 30, 'max_features': 'auto', 'n_e...</td>\n",
       "      <td>0.641863</td>\n",
       "      <td>25</td>\n",
       "    </tr>\n",
       "    <tr>\n",
       "      <th>17</th>\n",
       "      <td>{'max_depth': 20, 'max_features': 'auto', 'n_e...</td>\n",
       "      <td>0.635479</td>\n",
       "      <td>26</td>\n",
       "    </tr>\n",
       "    <tr>\n",
       "      <th>21</th>\n",
       "      <td>{'max_depth': 20, 'max_features': 'sqrt', 'n_e...</td>\n",
       "      <td>0.633702</td>\n",
       "      <td>27</td>\n",
       "    </tr>\n",
       "    <tr>\n",
       "      <th>29</th>\n",
       "      <td>{'max_depth': 30, 'max_features': 'sqrt', 'n_e...</td>\n",
       "      <td>0.619676</td>\n",
       "      <td>28</td>\n",
       "    </tr>\n",
       "    <tr>\n",
       "      <th>20</th>\n",
       "      <td>{'max_depth': 20, 'max_features': 'sqrt', 'n_e...</td>\n",
       "      <td>0.591030</td>\n",
       "      <td>29</td>\n",
       "    </tr>\n",
       "    <tr>\n",
       "      <th>16</th>\n",
       "      <td>{'max_depth': 20, 'max_features': 'auto', 'n_e...</td>\n",
       "      <td>0.568485</td>\n",
       "      <td>30</td>\n",
       "    </tr>\n",
       "    <tr>\n",
       "      <th>28</th>\n",
       "      <td>{'max_depth': 30, 'max_features': 'sqrt', 'n_e...</td>\n",
       "      <td>0.530111</td>\n",
       "      <td>31</td>\n",
       "    </tr>\n",
       "    <tr>\n",
       "      <th>24</th>\n",
       "      <td>{'max_depth': 30, 'max_features': 'auto', 'n_e...</td>\n",
       "      <td>0.529023</td>\n",
       "      <td>32</td>\n",
       "    </tr>\n",
       "  </tbody>\n",
       "</table>\n",
       "</div>"
      ],
      "text/plain": [
       "                                               params  mean_test_score  \\\n",
       "1   {'max_depth': 3, 'max_features': 'auto', 'n_es...         0.748937   \n",
       "2   {'max_depth': 3, 'max_features': 'auto', 'n_es...         0.746985   \n",
       "7   {'max_depth': 3, 'max_features': 'sqrt', 'n_es...         0.744029   \n",
       "6   {'max_depth': 3, 'max_features': 'sqrt', 'n_es...         0.742736   \n",
       "3   {'max_depth': 3, 'max_features': 'auto', 'n_es...         0.742447   \n",
       "5   {'max_depth': 3, 'max_features': 'sqrt', 'n_es...         0.740880   \n",
       "11  {'max_depth': 10, 'max_features': 'auto', 'n_e...         0.707603   \n",
       "15  {'max_depth': 10, 'max_features': 'sqrt', 'n_e...         0.706628   \n",
       "10  {'max_depth': 10, 'max_features': 'auto', 'n_e...         0.699044   \n",
       "14  {'max_depth': 10, 'max_features': 'sqrt', 'n_e...         0.688240   \n",
       "12  {'max_depth': 10, 'max_features': 'sqrt', 'n_e...         0.687836   \n",
       "4   {'max_depth': 3, 'max_features': 'sqrt', 'n_es...         0.681853   \n",
       "13  {'max_depth': 10, 'max_features': 'sqrt', 'n_e...         0.679305   \n",
       "31  {'max_depth': 30, 'max_features': 'sqrt', 'n_e...         0.679141   \n",
       "9   {'max_depth': 10, 'max_features': 'auto', 'n_e...         0.677290   \n",
       "27  {'max_depth': 30, 'max_features': 'auto', 'n_e...         0.673868   \n",
       "23  {'max_depth': 20, 'max_features': 'sqrt', 'n_e...         0.672218   \n",
       "19  {'max_depth': 20, 'max_features': 'auto', 'n_e...         0.672066   \n",
       "22  {'max_depth': 20, 'max_features': 'sqrt', 'n_e...         0.670434   \n",
       "0   {'max_depth': 3, 'max_features': 'auto', 'n_es...         0.669748   \n",
       "30  {'max_depth': 30, 'max_features': 'sqrt', 'n_e...         0.657014   \n",
       "8   {'max_depth': 10, 'max_features': 'auto', 'n_e...         0.654863   \n",
       "18  {'max_depth': 20, 'max_features': 'auto', 'n_e...         0.653234   \n",
       "26  {'max_depth': 30, 'max_features': 'auto', 'n_e...         0.650670   \n",
       "25  {'max_depth': 30, 'max_features': 'auto', 'n_e...         0.641863   \n",
       "17  {'max_depth': 20, 'max_features': 'auto', 'n_e...         0.635479   \n",
       "21  {'max_depth': 20, 'max_features': 'sqrt', 'n_e...         0.633702   \n",
       "29  {'max_depth': 30, 'max_features': 'sqrt', 'n_e...         0.619676   \n",
       "20  {'max_depth': 20, 'max_features': 'sqrt', 'n_e...         0.591030   \n",
       "16  {'max_depth': 20, 'max_features': 'auto', 'n_e...         0.568485   \n",
       "28  {'max_depth': 30, 'max_features': 'sqrt', 'n_e...         0.530111   \n",
       "24  {'max_depth': 30, 'max_features': 'auto', 'n_e...         0.529023   \n",
       "\n",
       "    rank_test_score  \n",
       "1                 1  \n",
       "2                 2  \n",
       "7                 3  \n",
       "6                 4  \n",
       "3                 5  \n",
       "5                 6  \n",
       "11                7  \n",
       "15                8  \n",
       "10                9  \n",
       "14               10  \n",
       "12               11  \n",
       "4                12  \n",
       "13               13  \n",
       "31               14  \n",
       "9                15  \n",
       "27               16  \n",
       "23               17  \n",
       "19               18  \n",
       "22               19  \n",
       "0                20  \n",
       "30               21  \n",
       "8                22  \n",
       "18               23  \n",
       "26               24  \n",
       "25               25  \n",
       "17               26  \n",
       "21               27  \n",
       "29               28  \n",
       "20               29  \n",
       "16               30  \n",
       "28               31  \n",
       "24               32  "
      ]
     },
     "execution_count": 20,
     "metadata": {},
     "output_type": "execute_result"
    }
   ],
   "source": [
    "start = time.time()\n",
    "\n",
    "\n",
    "param_grid = {'max_depth': [3,10, 20, 30],\n",
    "              'max_features': ['auto', 'sqrt'],\n",
    "             'n_estimators': [10, 100, 200]}\n",
    "\n",
    "grid = GridSearchCV(estimator=RandomForestClassifier(), param_grid=param_grid, scoring='roc_auc', cv=5)\n",
    "grid.fit(X, y)\n",
    "results=pd.DataFrame(grid.cv_results_)[['params','mean_test_score','rank_test_score']]\n",
    "\n",
    "\n",
    "end = time.time()\n",
    "cv_time = end - start\n",
    "print(cv_time)\n",
    "results.sort_values('rank_test_score')"
   ]
  },
  {
   "cell_type": "code",
   "execution_count": 24,
   "metadata": {},
   "outputs": [
    {
     "data": {
      "text/plain": [
       "{'max_depth': 3, 'max_features': 'auto', 'n_estimators': 100}"
      ]
     },
     "execution_count": 24,
     "metadata": {},
     "output_type": "execute_result"
    }
   ],
   "source": [
    "results.sort_values('rank_test_score')['params'][1]"
   ]
  },
  {
   "cell_type": "markdown",
   "metadata": {},
   "source": [
    "With all the changes I tried, still the base case Gradient Boosting model provided higher area under the curve. So I decided to use this model as classifier. "
   ]
  },
  {
   "cell_type": "markdown",
   "metadata": {},
   "source": [
    "## Part 3: Kaggle Competition\n",
    "\n",
    "Now that you've created a model to predict which individuals are most likely to respond to a mailout campaign, it's time to test that model in competition through Kaggle. If you click on the link [here](http://www.kaggle.com/t/21e6d45d4c574c7fa2d868f0e8c83140), you'll be taken to the competition page where, if you have a Kaggle account, you can enter. If you're one of the top performers, you may have the chance to be contacted by a hiring manager from Arvato or Bertelsmann for an interview!\n",
    "\n",
    "Your entry to the competition should be a CSV file with two columns. The first column should be a copy of \"LNR\", which acts as an ID number for each individual in the \"TEST\" partition. The second column, \"RESPONSE\", should be some measure of how likely each individual became a customer – this might not be a straightforward probability. As you should have found in Part 2, there is a large output class imbalance, where most individuals did not respond to the mailout. Thus, predicting individual classes and using accuracy does not seem to be an appropriate performance evaluation method. Instead, the competition will be using AUC to evaluate performance. The exact values of the \"RESPONSE\" column do not matter as much: only that the higher values try to capture as many of the actual customers as possible, early in the ROC curve sweep."
   ]
  },
  {
   "cell_type": "code",
   "execution_count": 41,
   "metadata": {},
   "outputs": [
    {
     "data": {
      "text/html": [
       "<div>\n",
       "<style scoped>\n",
       "    .dataframe tbody tr th:only-of-type {\n",
       "        vertical-align: middle;\n",
       "    }\n",
       "\n",
       "    .dataframe tbody tr th {\n",
       "        vertical-align: top;\n",
       "    }\n",
       "\n",
       "    .dataframe thead th {\n",
       "        text-align: right;\n",
       "    }\n",
       "</style>\n",
       "<table border=\"1\" class=\"dataframe\">\n",
       "  <thead>\n",
       "    <tr style=\"text-align: right;\">\n",
       "      <th></th>\n",
       "      <th>LNR</th>\n",
       "      <th>AGER_TYP</th>\n",
       "      <th>AKT_DAT_KL</th>\n",
       "      <th>ALTER_HH</th>\n",
       "      <th>ALTER_KIND1</th>\n",
       "      <th>ALTER_KIND2</th>\n",
       "      <th>ALTER_KIND3</th>\n",
       "      <th>ALTER_KIND4</th>\n",
       "      <th>ALTERSKATEGORIE_FEIN</th>\n",
       "      <th>ANZ_HAUSHALTE_AKTIV</th>\n",
       "      <th>...</th>\n",
       "      <th>VHN</th>\n",
       "      <th>VK_DHT4A</th>\n",
       "      <th>VK_DISTANZ</th>\n",
       "      <th>VK_ZG11</th>\n",
       "      <th>W_KEIT_KIND_HH</th>\n",
       "      <th>WOHNDAUER_2008</th>\n",
       "      <th>WOHNLAGE</th>\n",
       "      <th>ZABEOTYP</th>\n",
       "      <th>ANREDE_KZ</th>\n",
       "      <th>ALTERSKATEGORIE_GROB</th>\n",
       "    </tr>\n",
       "  </thead>\n",
       "  <tbody>\n",
       "    <tr>\n",
       "      <th>0</th>\n",
       "      <td>1754</td>\n",
       "      <td>2</td>\n",
       "      <td>1.0</td>\n",
       "      <td>7.0</td>\n",
       "      <td>NaN</td>\n",
       "      <td>NaN</td>\n",
       "      <td>NaN</td>\n",
       "      <td>NaN</td>\n",
       "      <td>6.0</td>\n",
       "      <td>2.0</td>\n",
       "      <td>...</td>\n",
       "      <td>4.0</td>\n",
       "      <td>5.0</td>\n",
       "      <td>6.0</td>\n",
       "      <td>3.0</td>\n",
       "      <td>6.0</td>\n",
       "      <td>9.0</td>\n",
       "      <td>3.0</td>\n",
       "      <td>3</td>\n",
       "      <td>1</td>\n",
       "      <td>4</td>\n",
       "    </tr>\n",
       "    <tr>\n",
       "      <th>1</th>\n",
       "      <td>1770</td>\n",
       "      <td>-1</td>\n",
       "      <td>1.0</td>\n",
       "      <td>0.0</td>\n",
       "      <td>NaN</td>\n",
       "      <td>NaN</td>\n",
       "      <td>NaN</td>\n",
       "      <td>NaN</td>\n",
       "      <td>0.0</td>\n",
       "      <td>20.0</td>\n",
       "      <td>...</td>\n",
       "      <td>1.0</td>\n",
       "      <td>5.0</td>\n",
       "      <td>2.0</td>\n",
       "      <td>1.0</td>\n",
       "      <td>6.0</td>\n",
       "      <td>9.0</td>\n",
       "      <td>5.0</td>\n",
       "      <td>3</td>\n",
       "      <td>1</td>\n",
       "      <td>4</td>\n",
       "    </tr>\n",
       "    <tr>\n",
       "      <th>2</th>\n",
       "      <td>1465</td>\n",
       "      <td>2</td>\n",
       "      <td>9.0</td>\n",
       "      <td>16.0</td>\n",
       "      <td>NaN</td>\n",
       "      <td>NaN</td>\n",
       "      <td>NaN</td>\n",
       "      <td>NaN</td>\n",
       "      <td>11.0</td>\n",
       "      <td>2.0</td>\n",
       "      <td>...</td>\n",
       "      <td>3.0</td>\n",
       "      <td>9.0</td>\n",
       "      <td>6.0</td>\n",
       "      <td>3.0</td>\n",
       "      <td>2.0</td>\n",
       "      <td>9.0</td>\n",
       "      <td>4.0</td>\n",
       "      <td>3</td>\n",
       "      <td>2</td>\n",
       "      <td>4</td>\n",
       "    </tr>\n",
       "    <tr>\n",
       "      <th>3</th>\n",
       "      <td>1470</td>\n",
       "      <td>-1</td>\n",
       "      <td>7.0</td>\n",
       "      <td>0.0</td>\n",
       "      <td>NaN</td>\n",
       "      <td>NaN</td>\n",
       "      <td>NaN</td>\n",
       "      <td>NaN</td>\n",
       "      <td>0.0</td>\n",
       "      <td>1.0</td>\n",
       "      <td>...</td>\n",
       "      <td>2.0</td>\n",
       "      <td>6.0</td>\n",
       "      <td>6.0</td>\n",
       "      <td>3.0</td>\n",
       "      <td>NaN</td>\n",
       "      <td>9.0</td>\n",
       "      <td>2.0</td>\n",
       "      <td>3</td>\n",
       "      <td>2</td>\n",
       "      <td>4</td>\n",
       "    </tr>\n",
       "    <tr>\n",
       "      <th>4</th>\n",
       "      <td>1478</td>\n",
       "      <td>1</td>\n",
       "      <td>1.0</td>\n",
       "      <td>21.0</td>\n",
       "      <td>NaN</td>\n",
       "      <td>NaN</td>\n",
       "      <td>NaN</td>\n",
       "      <td>NaN</td>\n",
       "      <td>13.0</td>\n",
       "      <td>1.0</td>\n",
       "      <td>...</td>\n",
       "      <td>1.0</td>\n",
       "      <td>2.0</td>\n",
       "      <td>4.0</td>\n",
       "      <td>3.0</td>\n",
       "      <td>3.0</td>\n",
       "      <td>9.0</td>\n",
       "      <td>7.0</td>\n",
       "      <td>4</td>\n",
       "      <td>2</td>\n",
       "      <td>4</td>\n",
       "    </tr>\n",
       "  </tbody>\n",
       "</table>\n",
       "<p>5 rows × 366 columns</p>\n",
       "</div>"
      ],
      "text/plain": [
       "    LNR  AGER_TYP  AKT_DAT_KL  ALTER_HH  ALTER_KIND1  ALTER_KIND2  \\\n",
       "0  1754         2         1.0       7.0          NaN          NaN   \n",
       "1  1770        -1         1.0       0.0          NaN          NaN   \n",
       "2  1465         2         9.0      16.0          NaN          NaN   \n",
       "3  1470        -1         7.0       0.0          NaN          NaN   \n",
       "4  1478         1         1.0      21.0          NaN          NaN   \n",
       "\n",
       "   ALTER_KIND3  ALTER_KIND4  ALTERSKATEGORIE_FEIN  ANZ_HAUSHALTE_AKTIV  \\\n",
       "0          NaN          NaN                   6.0                  2.0   \n",
       "1          NaN          NaN                   0.0                 20.0   \n",
       "2          NaN          NaN                  11.0                  2.0   \n",
       "3          NaN          NaN                   0.0                  1.0   \n",
       "4          NaN          NaN                  13.0                  1.0   \n",
       "\n",
       "          ...           VHN  VK_DHT4A  VK_DISTANZ  VK_ZG11  W_KEIT_KIND_HH  \\\n",
       "0         ...           4.0       5.0         6.0      3.0             6.0   \n",
       "1         ...           1.0       5.0         2.0      1.0             6.0   \n",
       "2         ...           3.0       9.0         6.0      3.0             2.0   \n",
       "3         ...           2.0       6.0         6.0      3.0             NaN   \n",
       "4         ...           1.0       2.0         4.0      3.0             3.0   \n",
       "\n",
       "   WOHNDAUER_2008  WOHNLAGE ZABEOTYP ANREDE_KZ ALTERSKATEGORIE_GROB  \n",
       "0             9.0       3.0        3         1                    4  \n",
       "1             9.0       5.0        3         1                    4  \n",
       "2             9.0       4.0        3         2                    4  \n",
       "3             9.0       2.0        3         2                    4  \n",
       "4             9.0       7.0        4         2                    4  \n",
       "\n",
       "[5 rows x 366 columns]"
      ]
     },
     "execution_count": 41,
     "metadata": {},
     "output_type": "execute_result"
    }
   ],
   "source": [
    "mailout_test = pd.read_csv('../../data/Term2/capstone/arvato_data/Udacity_MAILOUT_052018_TEST.csv', sep=';',dtype={18:'str',19:'str'})\n",
    "mailout_test.head()"
   ]
  },
  {
   "cell_type": "code",
   "execution_count": 42,
   "metadata": {},
   "outputs": [
    {
     "name": "stdout",
     "output_type": "stream",
     "text": [
      "(42833, 352)\n"
     ]
    }
   ],
   "source": [
    "attr_values=pd.read_csv(r\"/home/workspace/DIAS Attributes - Values 2017.csv\",encoding='latin1')\n",
    "\n",
    "unwanted_list=['LP_LEBENSPHASE_GROB','LP_STATUS_FEIN','LP_LEBENSPHASE_FEIN','CAMEO_INTL_2015','ALTER_KIND4','ALTER_KIND3','ALTER_KIND2','ALTER_KIND1','TITEL_KZ','KK_KUNDENTYP','KBA05_BAUMAX','AGER_TYP','EXTSEL992','EINGEFUEGT_AM']\n",
    "\n",
    "mailout_test.drop(unwanted_list,axis=1,inplace=True)\n",
    "print(mailout_test.shape)\n"
   ]
  },
  {
   "cell_type": "markdown",
   "metadata": {},
   "source": [
    "Keep LNR columns for Kaggle file."
   ]
  },
  {
   "cell_type": "code",
   "execution_count": 43,
   "metadata": {},
   "outputs": [
    {
     "data": {
      "text/plain": [
       "(42833, 351)"
      ]
     },
     "execution_count": 43,
     "metadata": {},
     "output_type": "execute_result"
    }
   ],
   "source": [
    "test_LNR = mailout_test['LNR']\n",
    "X_test=mailout_test.drop('LNR',axis=1)\n",
    "X_test.shape\n"
   ]
  },
  {
   "cell_type": "markdown",
   "metadata": {},
   "source": [
    "In data preprocessing, row cleaning is skipped since we need to do prediction for all data entries."
   ]
  },
  {
   "cell_type": "code",
   "execution_count": 45,
   "metadata": {},
   "outputs": [],
   "source": [
    "def data_preprocessing3(df,nan_non_numeric):\n",
    "    print('Cleaning data...')\n",
    "    data_clean(df)\n",
    "    print('Replacing remaining nan values...')\n",
    "    replace_nan(df,nan_non_numeric)\n",
    "    print('Data is ready!')\n",
    "   "
   ]
  },
  {
   "cell_type": "code",
   "execution_count": 46,
   "metadata": {},
   "outputs": [
    {
     "name": "stdout",
     "output_type": "stream",
     "text": [
      "Cleaning data...\n",
      "Replacing remaining nan values...\n",
      "Data is ready!\n"
     ]
    }
   ],
   "source": [
    "data_preprocessing3(X_test,'zero')"
   ]
  },
  {
   "cell_type": "markdown",
   "metadata": {},
   "source": [
    "One hot encoder and standard scaler is performed."
   ]
  },
  {
   "cell_type": "code",
   "execution_count": 49,
   "metadata": {},
   "outputs": [
    {
     "name": "stdout",
     "output_type": "stream",
     "text": [
      "(42833, 568)\n"
     ]
    }
   ],
   "source": [
    "nominal_dummies_X_test=pd.get_dummies(X_test[nominal_list].astype('object'))\n",
    "X_test.drop(nominal_list, axis=1, inplace = True)\n",
    "X_test = pd.concat([X_test,nominal_dummies_X_test], axis = 1)\n",
    "print(X_test.shape)\n"
   ]
  },
  {
   "cell_type": "code",
   "execution_count": 51,
   "metadata": {},
   "outputs": [
    {
     "name": "stdout",
     "output_type": "stream",
     "text": [
      "(42833, 568)\n"
     ]
    }
   ],
   "source": [
    "scaler = StandardScaler()\n",
    "X_test = pd.DataFrame(scaler.fit_transform(X_test), columns = X_test.columns)\n",
    "print(X_test.shape)\n"
   ]
  },
  {
   "cell_type": "markdown",
   "metadata": {},
   "source": [
    "Add missing columns in X from X_test with values of zero."
   ]
  },
  {
   "cell_type": "code",
   "execution_count": 52,
   "metadata": {},
   "outputs": [],
   "source": [
    "for i in list(set(X_test.columns)-set(X.columns).intersection(set(X_test.columns))):\n",
    "    X[i]=0\n"
   ]
  },
  {
   "cell_type": "markdown",
   "metadata": {},
   "source": [
    "Train and test GB model with parameters of the base parameters. Make Kaggle file with the prediction and LNR and save it."
   ]
  },
  {
   "cell_type": "code",
   "execution_count": 53,
   "metadata": {},
   "outputs": [
    {
     "name": "stdout",
     "output_type": "stream",
     "text": [
      "344.4590585231781\n",
      "0.776017134849\n"
     ]
    },
    {
     "data": {
      "text/plain": [
       "array([[ 0.96371359,  0.03628641],\n",
       "       [ 0.97989637,  0.02010363],\n",
       "       [ 0.98761851,  0.01238149],\n",
       "       [ 0.9968774 ,  0.0031226 ],\n",
       "       [ 0.99614672,  0.00385328],\n",
       "       [ 0.99129817,  0.00870183],\n",
       "       [ 0.99576319,  0.00423681],\n",
       "       [ 0.976108  ,  0.023892  ],\n",
       "       [ 0.97903207,  0.02096793],\n",
       "       [ 0.98853479,  0.01146521]])"
      ]
     },
     "execution_count": 53,
     "metadata": {},
     "output_type": "execute_result"
    }
   ],
   "source": [
    "gbc = GradientBoostingClassifier()\n",
    "best_model=classifier_roc(gbc, {},X)\n",
    "\n",
    "best_model.fit(X, y)\n",
    "preds = best_model.predict_proba(X_test)\n",
    "preds[:10]\n"
   ]
  },
  {
   "cell_type": "code",
   "execution_count": 54,
   "metadata": {},
   "outputs": [
    {
     "data": {
      "text/html": [
       "<div>\n",
       "<style scoped>\n",
       "    .dataframe tbody tr th:only-of-type {\n",
       "        vertical-align: middle;\n",
       "    }\n",
       "\n",
       "    .dataframe tbody tr th {\n",
       "        vertical-align: top;\n",
       "    }\n",
       "\n",
       "    .dataframe thead th {\n",
       "        text-align: right;\n",
       "    }\n",
       "</style>\n",
       "<table border=\"1\" class=\"dataframe\">\n",
       "  <thead>\n",
       "    <tr style=\"text-align: right;\">\n",
       "      <th></th>\n",
       "      <th>LNR</th>\n",
       "      <th>RESPONSE</th>\n",
       "    </tr>\n",
       "  </thead>\n",
       "  <tbody>\n",
       "    <tr>\n",
       "      <th>0</th>\n",
       "      <td>1754</td>\n",
       "      <td>0.036286</td>\n",
       "    </tr>\n",
       "    <tr>\n",
       "      <th>1</th>\n",
       "      <td>1770</td>\n",
       "      <td>0.020104</td>\n",
       "    </tr>\n",
       "    <tr>\n",
       "      <th>2</th>\n",
       "      <td>1465</td>\n",
       "      <td>0.012381</td>\n",
       "    </tr>\n",
       "    <tr>\n",
       "      <th>3</th>\n",
       "      <td>1470</td>\n",
       "      <td>0.003123</td>\n",
       "    </tr>\n",
       "    <tr>\n",
       "      <th>4</th>\n",
       "      <td>1478</td>\n",
       "      <td>0.003853</td>\n",
       "    </tr>\n",
       "  </tbody>\n",
       "</table>\n",
       "</div>"
      ],
      "text/plain": [
       "    LNR  RESPONSE\n",
       "0  1754  0.036286\n",
       "1  1770  0.020104\n",
       "2  1465  0.012381\n",
       "3  1470  0.003123\n",
       "4  1478  0.003853"
      ]
     },
     "execution_count": 54,
     "metadata": {},
     "output_type": "execute_result"
    }
   ],
   "source": [
    "# Generate a csv file to be submitted to Kaggle with the LNR id and prediction of response as columns.\n",
    "# Use second column of the array as the probabilities to be entered (probability of a positive response).\n",
    "# Print the first few lines of the kaggle dataframe.\n",
    "kaggle = pd.DataFrame({'LNR':test_LNR.astype(np.int32), 'RESPONSE':preds[:, 1]})\n",
    "kaggle.to_csv('kaggle.csv', index = False)\n",
    "kaggle.head()\n"
   ]
  },
  {
   "cell_type": "markdown",
   "metadata": {},
   "source": [
    "# Improvement\n",
    "In the above method, I did not use much of the information found in customer segmentation part in prediction part. One big fact was that the training dataset was highly imbalanced. Only 1.2% of the records had response equal to 1, 99% of the dataset were not customers of the company. Therefore, one improvement that can be made might be to do the same clustering we did in the first part here to the training set. I started it and the result is below."
   ]
  },
  {
   "cell_type": "code",
   "execution_count": 171,
   "metadata": {},
   "outputs": [
    {
     "data": {
      "text/plain": [
       "Text(0.5,1,'Training Population')"
      ]
     },
     "execution_count": 171,
     "metadata": {},
     "output_type": "execute_result"
    },
    {
     "data": {
      "image/png": "[encoded data removed]",
      "text/plain": [
       "<matplotlib.figure.Figure at 0x7f26ed0fd8d0>"
      ]
     },
     "metadata": {
      "needs_background": "light"
     },
     "output_type": "display_data"
    }
   ],
   "source": [
    "X2=X[azdias.columns]\n",
    "X2 = pd.DataFrame(scaler.transform(X2), columns = X2.columns)\n",
    "pca_customers_180 = pca_azdias_180.transform(X2)\n",
    "X2_labels = azdias_model.predict(pca_customers_180)\n",
    "\n",
    "X2_pop = 42962\n",
    "\n",
    "X2_counter = Counter(X2_labels)\n",
    "X2_proportions = [(i, X2_counter[i] / X2_pop * 100.0) for i in X2_counter]\n",
    "X2_proportions.sort(key=itemgetter(0))\n",
    "X2_proportions = np.array(X2_proportions)\n",
    "\n",
    "dropped_X2_pop = 100 - X2_proportions[:, 1].astype(np.float).sum()\n",
    "\n",
    "X2_proportions = np.insert(X2_proportions, 0, values=[-1, dropped_X2_pop], axis=0)\n",
    "X2_proportions\n",
    "\n",
    "ax = plt.subplot(111)\n",
    "ax.bar(X2_proportions[:, 0], X2_proportions[:, 1])\n",
    "ax.set_xticks(azdias_proportions[:, 0])\n",
    "ax.set_ylim(ymax = 35)\n",
    "ax.set_xlabel(\"Cluster\")\n",
    "ax.set_ylabel(\"Proportion of Total (%)\")\n",
    "plt.title('Training Population')"
   ]
  },
  {
   "cell_type": "markdown",
   "metadata": {},
   "source": [
    "Let's check the ratio of response 1 to total in each cluster. "
   ]
  },
  {
   "cell_type": "code",
   "execution_count": 172,
   "metadata": {},
   "outputs": [
    {
     "data": {
      "text/plain": [
       "Text(0.5,1,'Customer Population')"
      ]
     },
     "execution_count": 172,
     "metadata": {},
     "output_type": "execute_result"
    },
    {
     "data": {
      "image/png": "[encoded data removed]",
      "text/plain": [
       "<matplotlib.figure.Figure at 0x7f268e32e0b8>"
      ]
     },
     "metadata": {
      "needs_background": "light"
     },
     "output_type": "display_data"
    }
   ],
   "source": [
    "X2['label']=X2_labels\n",
    "X2['response']=y\n",
    "#y.shape\n",
    "response_rate=X2.groupby(['label']).sum()['response']/X2.groupby(['label']).size()*100\n",
    "\n",
    "ax4 = plt.subplot(111)\n",
    "ax4.bar(np.arange(20),response_rate)\n",
    "ax4.set_xticks(azdias_proportions[:, 0])\n",
    "ax4.set_ylim(ymax = 2)\n",
    "ax4.set_xlabel(\"Cluster\")\n",
    "ax4.set_ylabel(\"Proportion of Total (%)\")\n",
    "plt.title('Customer Population')"
   ]
  },
  {
   "cell_type": "markdown",
   "metadata": {},
   "source": [
    "We can develop different prediction models for each clusters separately, since as we saw before, the clusters have different patterns in terms of customer ratio. I leave this for feature development and improvement."
   ]
  },
  {
   "cell_type": "code",
   "execution_count": null,
   "metadata": {},
   "outputs": [],
   "source": []
  }
 ],
 "metadata": {
  "kernelspec": {
   "display_name": "Python 3",
   "language": "python",
   "name": "python3"
  },
  "language_info": {
   "codemirror_mode": {
    "name": "ipython",
    "version": 3
   },
   "file_extension": ".py",
   "mimetype": "text/x-python",
   "name": "python",
   "nbconvert_exporter": "python",
   "pygments_lexer": "ipython3",
   "version": "3.6.3"
  }
 },
 "nbformat": 4,
 "nbformat_minor": 2
}
